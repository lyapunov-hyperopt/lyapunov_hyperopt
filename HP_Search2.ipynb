{
 "cells": [
  {
   "cell_type": "code",
   "execution_count": 45,
   "metadata": {
    "colab": {
     "base_uri": "https://localhost:8080/",
     "height": 34
    },
    "colab_type": "code",
    "id": "eE1y60Wh-TX2",
    "outputId": "b371f8dc-1084-41d2-82b5-e3d6005f94cd"
   },
   "outputs": [
    {
     "name": "stdout",
     "output_type": "stream",
     "text": [
      "Mounted at /content/drive\n"
     ]
    }
   ],
   "source": [
    "# If running on Google Colab, run this cell first\n",
    "from google.colab import drive\n",
    "drive.mount('/content/drive', force_remount = True)\n",
    "import sys\n",
    "sys.path.append('/content/drive/My Drive/Lyapunov')"
   ]
  },
  {
   "cell_type": "code",
   "execution_count": 1,
   "metadata": {
    "colab": {},
    "colab_type": "code",
    "id": "F3I2150W9CQB"
   },
   "outputs": [
    {
     "name": "stderr",
     "output_type": "stream",
     "text": [
      "Using TensorFlow backend.\n"
     ]
    }
   ],
   "source": [
    "import os\n",
    "import matplotlib.pyplot as plt\n",
    "\n",
    "import numpy as np\n",
    "import chainer\n",
    "\n",
    "import pickle as pkl\n",
    "import matplotlib\n",
    "import math\n",
    "\n",
    "from torch.autograd import Variable\n",
    "from torch.nn import RNN, GRU, LSTM, Linear, Embedding\n",
    "from tqdm import tqdm\n",
    "from torch import nn\n",
    "import torch\n",
    "from keras.utils import to_categorical\n",
    "\n",
    "import lyapunov as l\n",
    "from importlib import reload  # Python 3.4+ only.\n",
    "import gc\n",
    "import sys\n",
    "from math import floor\n",
    "from importlib import reload\n",
    "from matplotlib import cm\n",
    "from matplotlib.lines import Line2D\n",
    "from hyperopt import hp, fmin, tpe, STATUS_OK, Trials\n",
    "import matplotlib\n",
    "\n",
    "from random import random\n",
    "from random import seed\n",
    "\n",
    "if torch.cuda.is_available():\n",
    "    device = torch.device('cuda')\n",
    "else:\n",
    "    device = torch.device('cpu')\n",
    "    \n",
    "import os.path as path\n",
    "\n",
    "import dataloader as dl"
   ]
  },
  {
   "cell_type": "code",
   "execution_count": 0,
   "metadata": {
    "colab": {},
    "colab_type": "code",
    "id": "ogxt0zXt9CQP"
   },
   "outputs": [],
   "source": [
    "from mpl_toolkits.mplot3d import Axes3D  # noqa: F401 unused import"
   ]
  },
  {
   "cell_type": "code",
   "execution_count": 2,
   "metadata": {
    "colab": {},
    "colab_type": "code",
    "id": "Sr0ehnkS9CQT"
   },
   "outputs": [],
   "source": [
    "# top_directory = 'drive/My Drive/Lyapunov/CharRNN/WP'\n",
    "top_directory = 'CharRNN/WP'\n",
    "class Config:\n",
    "    def __init__(self, data_dir = top_directory, rnn_model = 'lstm', hidden_size = 128, num_layers = 1, dropout = 0.0, learning_rate = .002, embedded = 'one-hot',\n",
    "                 seq_length = 100, batch_size= 100, max_epochs = 50, decay_rate = 0.95, decay_start = 10, train_frac = 0.8, val_frac = 0.1,\n",
    "                 cuda = torch.cuda.is_available(), model_dir = top_directory + '/HP/Models',\n",
    "                 print_interval = 100, optimizer = 'adam', init_type = 'uniform', init_param = 0.08):\n",
    "        \n",
    "        self.data_dir = data_dir \n",
    "        \n",
    "        self.rnn_model = rnn_model\n",
    "        self.hidden_size = hidden_size\n",
    "        self.num_layers = num_layers\n",
    "        self.dropout = dropout\n",
    "        self.embedded = embedded\n",
    "        self.init_type = init_type\n",
    "        self.init_param = init_param\n",
    "        \n",
    "        self.learning_rate = learning_rate #initial learning rate\n",
    "        self.optimizer = optimizer\n",
    "        self.seq_length = seq_length\n",
    "        self.batch_size = batch_size\n",
    "        self.max_epochs = max_epochs\n",
    "        self.decay_rate = decay_rate\n",
    "        self.decay_start = decay_start\n",
    "        self.train_frac = train_frac\n",
    "        self.val_frac = val_frac\n",
    "        \n",
    "        self.cuda = cuda\n",
    "        self.model_dir = model_dir\n",
    "        self.full_name = \"{}_L{}_H{}_drop{}_lr{}_{}_{}{}\".format(self.rnn_model, self.num_layers, self.hidden_size, self.dropout, \n",
    "                                                                 self.learning_rate, self.optimizer, self.init_type, self.init_param)\n",
    "#         self.full_name = \"{}_L{}_H{}_drop{}_{}\".format(self.rnn_model, self.num_layers, self.hidden_size, self.dropout, self.optimizer)\n",
    "\n",
    "        self.print_interval = print_interval"
   ]
  },
  {
   "cell_type": "markdown",
   "metadata": {
    "colab_type": "text",
    "id": "c0ixhxGg9CQf"
   },
   "source": [
    "## Data Preprocessing"
   ]
  },
  {
   "cell_type": "code",
   "execution_count": 4,
   "metadata": {
    "colab": {
     "base_uri": "https://localhost:8080/",
     "height": 102
    },
    "colab_type": "code",
    "id": "4JOctcvq9CQh",
    "outputId": "1bc76178-9d17-42ba-91bf-3c38e2d7e250",
    "scrolled": true
   },
   "outputs": [
    {
     "name": "stdout",
     "output_type": "stream",
     "text": [
      "Loading  CharRNN/WP\\data.pkl ...\n",
      "Loading  CharRNN/WP\\vocab.pkl ...\n",
      "None\n",
      "Cutting off end of data so that it divides evenly\n",
      "Data load done! Number of data batches in train: 256, val: 32, test: 31\n"
     ]
    }
   ],
   "source": [
    "#Need to have input.txt or vocab.pkl and data.pkl in the Configuration's data_dir folder\n",
    "con = Config()\n",
    "train_set, val_set, test_set, (char_to_int, int_to_char) = dl.create_dataset(con)\n",
    "train_input_set, train_target_set = train_set[0], train_set[1]\n",
    "val_input_set, val_target_set = val_set[0], val_set[1]\n",
    "test_input_set, test_target_set = test_set[0], test_set[1] \n",
    "vocab_size = len(char_to_int)"
   ]
  },
  {
   "cell_type": "markdown",
   "metadata": {
    "colab_type": "text",
    "id": "kMB6GHbr9CRN"
   },
   "source": [
    "## Create Model Template, Train and Validation functions"
   ]
  },
  {
   "cell_type": "code",
   "execution_count": 5,
   "metadata": {
    "colab": {},
    "colab_type": "code",
    "id": "lwSGbidO9CRQ"
   },
   "outputs": [],
   "source": [
    "# build the model using the pytorch nn module\n",
    "class CharRNN(nn.ModuleList):\n",
    "    def __init__(self, num_layers, vocab_size, hidden_size, model = 'lstm', p_drop = 0.0, embedded = 'one-hot', dynamics = False, \n",
    "                 cuda = torch.cuda.is_available(), init_type = 'uniform', init_param = 0.08):\n",
    "        super(CharRNN, self).__init__()\n",
    "        \n",
    "        # init the meta parameters\n",
    "        self.num_layers = num_layers\n",
    "        self.hidden_size = hidden_size\n",
    "        self.vocab_size = vocab_size\n",
    "        self.model = model\n",
    "        self.L = self.num_layers*self.hidden_size\n",
    "        self.dynamics = dynamics\n",
    "        self.embedded = embedded\n",
    "        self.init_type = init_type\n",
    "        self.init_param = init_param\n",
    "        self.device = torch.device('cuda') if cuda else torch.device('cpu')\n",
    "        \n",
    "        if self.embedded == None:\n",
    "            self.encoder = nn.Identity()\n",
    "        elif self.embedded == 'embedding':\n",
    "            self.encoder = Embedding(input_size, input_size)\n",
    "        elif self.embedded == 'one-hot':\n",
    "            self.encoder = lambda xt: torch.from_numpy(to_categorical(xt.cpu(), self.vocab_size)).to(self.device)\n",
    "        else:\n",
    "            raise Exception('Embedding type not defined')\n",
    "            \n",
    "            \n",
    "        if model == 'rnn':\n",
    "            self.rnn_layer = RNN(num_layers = self.num_layers, hidden_size=hidden_size, input_size=vocab_size, batch_first=True, bias = False)\n",
    "            self.gate_size = hidden_size\n",
    "        elif model == 'gru':\n",
    "            self.rnn_layer = GRU(num_layers = self.num_layers, hidden_size=hidden_size, input_size=vocab_size, batch_first=True, bias = False)\n",
    "            self.gate_size = 3*hidden_size\n",
    "        elif model == 'lstm':\n",
    "            self.rnn_layer = LSTM(num_layers = self.num_layers, hidden_size=hidden_size, input_size=vocab_size, batch_first=True, bias = False)\n",
    "            self.gate_size = 4*hidden_size\n",
    "        else:\n",
    "            raise Exception('Recurrent model not defined. Exitting.')\n",
    "\n",
    "        #Initialize weights to all be between -0.08 and 0.08 (or defined initiazation)\n",
    "        for layer_p in self.rnn_layer._all_weights:\n",
    "            for p in layer_p:\n",
    "                if 'weight' in p:\n",
    "                    # nn.init.uniform_(self.rnn_layer.__getattr__(p), -0.08, 0.08)\n",
    "                    self.init_weights(p)\n",
    "\n",
    "\n",
    "        self.dropout = nn.Dropout(p=p_drop)\n",
    "        self.fc = Linear(in_features = hidden_size, out_features = vocab_size, bias = False)\n",
    "        \n",
    "    def forward(self, xt, h):\n",
    "        encoded = self.encoder(xt)\n",
    "        self.rnn_layer.flatten_parameters()\n",
    "        rnn_out, rnn_hn = self.rnn_layer(encoded, h)\n",
    "        d_out = self.dropout(rnn_out)\n",
    "        output = self.fc(d_out)\n",
    "        return output, rnn_hn\n",
    "    \n",
    "    def init_weights(self, p):\n",
    "        init_options = ['uniform', 'normal', 'xavier']\n",
    "        if self.init_type == 'uniform':\n",
    "            nn.init.uniform_(self.rnn_layer.__getattr__(p), -self.init_param, self.init_param)\n",
    "        elif self.init_type == 'normal':\n",
    "            nn.init.normal_(self.rnn_layer.__getattr__(p), std = self.init_param)\n",
    "        elif self.init_type == 'xavier':\n",
    "            nn.init.xavier_normal_(self.rnn_layer.__getattr__(p), gain = self.init_param)\n",
    "        else:\n",
    "            print('{} is not a valid initialization type. Options are: {}'.format(self.init_type, init_options))\n",
    "\n",
    "    def init_hidden(self, batch_size):\n",
    "        if self.model == 'lstm':\n",
    "            if self.dynamics:\n",
    "                return (Variable(torch.randn(self.num_layers, batch_size, self.hidden_size)).to(device),\n",
    "                    Variable(torch.randn(self.num_layers, batch_size, self.hidden_size)).to(device))\n",
    "            else:\n",
    "                return (Variable(torch.zeros(self.num_layers, batch_size, self.hidden_size)).to(device),\n",
    "                    Variable(torch.zeros(self.num_layers, batch_size, self.hidden_size)).to(self.device))\n",
    "\n",
    "        if self.dynamics:\n",
    "            return Variable(torch.randn(self.num_layers, batch_size, self.hidden_size)).to(device)\n",
    "        else:\n",
    "            return Variable(torch.zeros(self.num_layers, batch_size, self.hidden_size)).to(device)\n"
   ]
  },
  {
   "cell_type": "code",
   "execution_count": 0,
   "metadata": {
    "colab": {},
    "colab_type": "code",
    "id": "7Sdzuh3G9CRb"
   },
   "outputs": [],
   "source": [
    "def train_hp(train_set, val_set, vocab_size, config, init_epoch = 0, save_losses = True):\n",
    "    device = torch.device('cuda') if config.cuda else torch.device('cpu')\n",
    "    char_rnn = CharRNN(config.num_layers, vocab_size, config.hidden_size, model=config.rnn_model, \n",
    "                       p_drop = config.dropout, embedded = config.embedded, init_type = config.init_type,\n",
    "                       init_param = config.init_param).to(device)\n",
    "    # train_input_set : (train_batches, batch_size, seq_length); the rest are similar\n",
    "    train_input_set, train_target_set = train_set[0], train_set[1]\n",
    "    val_input_set, val_target_set = val_set[0], val_set[1]\n",
    "    \n",
    "    \n",
    "    criterion = nn.CrossEntropyLoss()   # include softmax\n",
    "    if config.optimizer == 'rms':\n",
    "        optimizer = torch.optim.RMSprop(params = char_rnn.parameters(), lr = config.learning_rate)\n",
    "    elif config.optimizer == 'adam':\n",
    "        optimizer = torch.optim.Adam(params = char_rnn.parameters(), lr = config.learning_rate)\n",
    "    else:\n",
    "        print(config.optimizer +'is not a recognized optimizer')\n",
    "        return\n",
    "    # learning rate decay\n",
    "    scheduler = torch.optim.lr_scheduler.MultiStepLR(optimizer, milestones = range(config.decay_start-init_epoch, config.max_epochs+1-init_epoch) , gamma = config.decay_rate)\n",
    "    \n",
    "    best_val_loss = sys.float_info.max\n",
    "    \n",
    "    train_losses = []\n",
    "    if init_epoch == 0:\n",
    "        torch.save(char_rnn.state_dict(), path.join(config.model_dir, \"{}_e0.pth\".format(config.full_name)))\n",
    "    else:\n",
    "        char_rnn.load_state_dict(torch.load(path.join(config.model_dir, config.full_name)+'_e{}.pth'.format(hp_epoch)))\n",
    "    for epoch_idx in tqdm(range(init_epoch+1, config.max_epochs + 1)): # for evary epoch\n",
    "        running_loss = 0.0\n",
    "    \n",
    "    # initialize hidden states for every epoch\n",
    "        hidden = char_rnn.init_hidden(config.batch_size)  # (n_layers * n_directions, batch_size, hidden_size)\n",
    "        # ship to gpu if possible\n",
    "        if torch.cuda.is_available() and config.cuda:\n",
    "            if config.rnn_model == 'lstm':\n",
    "                hidden = tuple([x.cuda() for x in hidden])\n",
    "            else:\n",
    "                hidden = hidden.cuda()\n",
    "        \n",
    "        for batch_idx in range(1, train_input_set.shape[0] + 1):   # for every batch\n",
    "            # for every batch\n",
    "            optimizer.zero_grad()   # zero the parameter gradients\n",
    "\n",
    "            train_input = train_input_set[batch_idx - 1]\n",
    "\n",
    "            # ship to gpu if possible\n",
    "            if torch.cuda.is_available() and config.cuda:\n",
    "                train_input = train_input.cuda()\n",
    "            \n",
    "            xt = Variable(train_input)\n",
    "            # compute loss for this batch\n",
    "            loss = 0\n",
    "\n",
    "            # forward pass\n",
    "\n",
    "            train_output, hidden = char_rnn(xt, hidden) # ignore gate values\n",
    "            # add up loss at each time step\n",
    "            loss += criterion(train_output.view(-1, vocab_size), Variable(train_target_set[batch_idx-1].view(config.seq_length*config.batch_size)).to(device))\n",
    "\n",
    "\n",
    "#             detach hidden state from current computational graph for back-prop\n",
    "            if config.rnn_model == 'lstm':\n",
    "                for x in hidden:\n",
    "                    x.detach_()\n",
    "            else:\n",
    "                hidden.detach_()\n",
    "\n",
    "            # backward\n",
    "            loss.backward()\n",
    "            optimizer.step()\n",
    "            \n",
    "\n",
    "            # print statistics\n",
    "            running_loss += loss.item()\n",
    "\n",
    "\n",
    "            '''\n",
    "            # validate model\n",
    "            val_loss = 0\n",
    "            # for every batch\n",
    "            for val_batch_idx in range(1, val_input_set.shape[0] + 1):\n",
    "                val_input = val_input_set[val_batch_idx - 1]\n",
    "                # ship to gpu if possible\n",
    "                if torch.cuda.is_available() and config.cuda:\n",
    "                    val_input = val_input.cuda()\n",
    "                for i in range(config.seq_length):  # for every time step in this batch\n",
    "                    # forward pass\n",
    "                    val_output, _, _ = char_rnn(Variable(val_input[:, i]), hidden)\n",
    "                    # add up loss at each time step\n",
    "                    val_loss += criterion(val_output.view(config.batch_size, -1).cpu(),\n",
    "                                          Variable(val_target_set[val_batch_idx - 1][:, i]))\n",
    "            val_loss /= val_input_set.shape[0]  # loss per batch\n",
    "            print('Validation loss: %.3f' % val_loss)\n",
    "            # save the best model sofar\n",
    "            if val_loss.data[0] < best_val_loss:\n",
    "                print('Saving model [%d, %4d]...' % (epoch_idx, batch_idx))\n",
    "                torch.save(char_rnn.state_dict(), path.join(config.model_dir, config.model + '.pth'))\n",
    "                # to load a saved model: char_rnn = CharRNN(*args, **kwargs), char_rnn.load_state_dict(torch.load(PATH))\n",
    "                best_val_loss = val_loss.data[0]\n",
    "            '''\n",
    "\n",
    "        train_losses.append(running_loss/(train_input_set.shape[0] + 1))\n",
    "        scheduler.step()    # lr decay\n",
    "        # save model after each epoch\n",
    "        torch.save(char_rnn.state_dict(), path.join(config.model_dir, config.full_name +\"_e{}.pth\".format(epoch_idx)))\n",
    "    if save_losses:\n",
    "        pkl.dump(train_losses, open(path.join(config.model_dir, config.full_name+\"_trainLoss.p\"), 'wb'))\n",
    "    return char_rnn"
   ]
  },
  {
   "cell_type": "code",
   "execution_count": 0,
   "metadata": {
    "colab": {},
    "colab_type": "code",
    "id": "Nn7gLi3u9CRk"
   },
   "outputs": [],
   "source": [
    "def best_fit_slope(x,y):\n",
    "#     m = np.mean(ys)\n",
    "    xs = torch.Tensor(x)\n",
    "    ys = torch.Tensor(y)\n",
    "    m = (((torch.mean(xs)*torch.mean(ys)) - torch.mean(xs*ys)) /\n",
    "         ((torch.mean(xs)**2) - torch.mean(xs**2)))\n",
    "    return m"
   ]
  },
  {
   "cell_type": "code",
   "execution_count": 0,
   "metadata": {
    "colab": {},
    "colab_type": "code",
    "id": "HI3HDxmvu5Ut"
   },
   "outputs": [],
   "source": [
    "def le_cal(net, con, dynamics = False):\n",
    "    net.dynamics = dynamics\n",
    "    batch_size, seq_length = con.batch_size, con.seq_length\n",
    "    xt_flat = torch.flatten(test_input_set)[:batch_size * seq_length * math.floor(test_input_set.nelement() / (batch_size * seq_length))]\n",
    "    idx = torch.randperm(xt_flat.nelement())\n",
    "    test_dr = torch.from_numpy(to_categorical(xt_flat[idx].view(-1, batch_size, seq_length), vocab_size)).to(device)\n",
    "    i = torch.randint(low = 0, high = test_dr.shape[0], size =  (1,)).item()\n",
    "\n",
    "\n",
    "    # net.load_state_dict(torch.load(path.join(con.model_dir, \"Models/\" + con.full_name)+'_e{}.pth'.format(epoch)))\n",
    "    h_l = net.init_hidden(con.batch_size)\n",
    "    LE_char, _ = l.calc_LEs_an(test_dr[i], h_l, model = net, k_LE = 10000, rec_layer = con.rnn_model)\n",
    "    \n",
    "    LE_mean, LE_std = l.LE_stats(LE_char)\n",
    "    # slopes = 0 \n",
    "    # best_fit_slope(np.array(range(slope_inds[0], slope_inds[1])), np.array(LE_mean[slope_inds[0]:slope_inds[1]]))\n",
    "    net.dynamics = False\n",
    "    return (LE_mean, LE_std)"
   ]
  },
  {
   "cell_type": "code",
   "execution_count": 0,
   "metadata": {
    "colab": {},
    "colab_type": "code",
    "id": "4u2CpYMx9CR5"
   },
   "outputs": [],
   "source": [
    "def val(config, val_set, vocab_size):\n",
    "    criterion = nn.CrossEntropyLoss()   # include softmax\n",
    "    if torch.cuda.is_available() and config.cuda:\n",
    "        device = torch.device('cuda')\n",
    "    val_losses = []\n",
    "    val_input_set, val_target_set = val_set[0], val_set[1]\n",
    "    for epoch in tqdm(range(config.max_epochs)):\n",
    "        char_rnn = CharRNN(config.num_layers, vocab_size, config.hidden_size, model=config.rnn_model, p_drop = config.dropout, embedded = config.embedded).to(device)\n",
    "        char_rnn.load_state_dict(torch.load(path.join(config.model_dir, config.full_name)+'_e{}.pth'.format(epoch)))\n",
    "        running_loss = 0.0\n",
    "\n",
    "        hidden = char_rnn.init_hidden(config.batch_size)  # (n_layers * n_directions, batch_size, hidden_size)\n",
    "        # ship to gpu if possible\n",
    "        if torch.cuda.is_available() and config.cuda:\n",
    "            if config.rnn_model == 'lstm':\n",
    "                hidden = tuple([x.cuda() for x in hidden])\n",
    "            else:\n",
    "                hidden = hidden.cuda()\n",
    "\n",
    "        for batch_idx in range(1, val_input_set.shape[0] + 1):   # for every batch\n",
    "            # for every batch\n",
    "            val_input = val_input_set[batch_idx - 1]\n",
    "\n",
    "            # ship to gpu if possible\n",
    "            if torch.cuda.is_available() and config.cuda:\n",
    "                val_input = val_input.cuda()\n",
    "\n",
    "            xt = Variable(val_input)\n",
    "            # compute loss for this batch\n",
    "            loss = 0\n",
    "            val_output, hidden = char_rnn(xt, hidden)\n",
    "            # add up loss at each time step\n",
    "            loss += criterion(val_output.view(-1, vocab_size), Variable(val_target_set[batch_idx-1].view(config.seq_length*config.batch_size)).to(device))\n",
    "            running_loss += loss.item()\n",
    "        val_losses.append(running_loss/(val_input_set.shape[0] + 1))\n",
    "    pkl.dump(val_losses, open(path.join(config.model_dir, config.full_name+\"_valLossFull.p\"), 'wb'))\n",
    "    return val_losses"
   ]
  },
  {
   "cell_type": "markdown",
   "metadata": {
    "colab_type": "text",
    "id": "nk8tTHTkF0NC"
   },
   "source": [
    "# Manual Grid Search (Dropout and Learning Rate)"
   ]
  },
  {
   "cell_type": "markdown",
   "metadata": {
    "colab_type": "text",
    "id": "2WWEZBRgNVvk"
   },
   "source": [
    "## Network Training"
   ]
  },
  {
   "cell_type": "code",
   "execution_count": 29,
   "metadata": {
    "colab": {
     "base_uri": "https://localhost:8080/",
     "height": 51
    },
    "colab_type": "code",
    "id": "1m0qisMbFzBn",
    "outputId": "005c61da-501d-41fb-c451-c5b7732426bc"
   },
   "outputs": [
    {
     "name": "stdout",
     "output_type": "stream",
     "text": [
      "0.02\n",
      "0.003\n"
     ]
    }
   ],
   "source": [
    "do_range = [0.0, 0.2]\n",
    "lr_range = [0.001, 0.01]\n",
    "n_do = 11\n",
    "n_lr = 10\n",
    "dos = np.linspace(do_range[0], do_range[1], 11)\n",
    "lrs = np.linspace(lr_range[0], lr_range[1], 10)\n",
    "D,L = np.meshgrid(dos, lrs)"
   ]
  },
  {
   "cell_type": "code",
   "execution_count": 0,
   "metadata": {
    "colab": {},
    "colab_type": "code",
    "id": "hTDgEXfl0Imt"
   },
   "outputs": [],
   "source": [
    "for do in dos:\n",
    "    for lr in lrs:\n",
    "        print('Dropout= {}, Learning Rate = {}'.format(do, lr))\n",
    "        con = Config(top_directory+'/HP', hidden_size = 512, dropout = do, learning_rate = lr, max_epochs = 15, init_type = 'uniform',\n",
    "                 init_param = 0.08)\n",
    "        train_hp(train_set, val_set, vocab_size, con)"
   ]
  },
  {
   "cell_type": "code",
   "execution_count": 35,
   "metadata": {
    "colab": {
     "base_uri": "https://localhost:8080/",
     "height": 34
    },
    "colab_type": "code",
    "id": "mW8ybKb11Yct",
    "outputId": "f053c0e4-f3a2-40e8-bb4a-a1450a98dace"
   },
   "outputs": [
    {
     "data": {
      "text/plain": [
       "'CharRNN/WP/HP/Models'"
      ]
     },
     "execution_count": 35,
     "metadata": {
      "tags": []
     },
     "output_type": "execute_result"
    }
   ],
   "source": [
    "for do in dos:\n",
    "    for lr in lrs:\n",
    "        print('Dropout= {}, Learning Rate = {}'.format(do, lr))\n",
    "        con = Config(top_directory+'/HP', hidden_size = 512, dropout = do, learning_rate = lr, max_epochs = 15, init_type = 'uniform',\n",
    "                 init_param = 0.08)"
   ]
  },
  {
   "cell_type": "code",
   "execution_count": 0,
   "metadata": {
    "colab": {},
    "colab_type": "code",
    "id": "HsHngJeA6XVE"
   },
   "outputs": [],
   "source": [
    "max_epochs = 15\n",
    "for do in dos:\n",
    "    for lr in lrs:\n",
    "        print('Dropout= {}, Learning Rate = {}'.format(do, lr))\n",
    "        con = Config(top_directory+'/HP', hidden_size = 512, dropout = do, learning_rate = lr, max_epochs = max_epochs, init_type = 'uniform',\n",
    "                 init_param = 0.08)\n",
    "        net = CharRNN(con.num_layers, vocab_size, con.hidden_size, model=con.rnn_model, p_drop = con.dropout, embedded = None)\n",
    "\n",
    "        net.load_state_dict(torch.load(path.join(con.model_dir, con.full_name)+'_e{}.pth'.format(max_epochs)))\n",
    "        val(con, val_set, vocab_size)"
   ]
  },
  {
   "cell_type": "code",
   "execution_count": 0,
   "metadata": {
    "colab": {},
    "colab_type": "code",
    "id": "bzb9oCE0EmZW"
   },
   "outputs": [],
   "source": [
    "val = np.zeros((len(dos), len(lrs)))\n",
    "for i, do in enumerate(dos):\n",
    "    for j, lr in enumerate(lrs):\n",
    "        con = Config(top_directory+'/HP', hidden_size = 512, dropout = do, learning_rate = lr, max_epochs = max_epochs, init_type = 'uniform',\n",
    "                 init_param = 0.08)\n",
    "        val_loss = pkl.load(open('{}/{}_valLossFull.p'.format(con.model_dir, con.full_name),'rb'))\n",
    "        val[i,j] = val_loss[-1]"
   ]
  },
  {
   "cell_type": "code",
   "execution_count": 0,
   "metadata": {
    "colab": {},
    "colab_type": "code",
    "id": "qgTjC7TEOOuN"
   },
   "outputs": [],
   "source": [
    "from matplotlib.colors import LinearSegmentedColormap\n",
    "\n",
    "class nlcmap(LinearSegmentedColormap):\n",
    "    \"\"\"A nonlinear colormap\"\"\"\n",
    "\n",
    "    name = 'nlcmap'\n",
    "\n",
    "    def __init__(self, cmap, levels):\n",
    "        self.cmap = cmap\n",
    "        self.monochrome = self.cmap.monochrome\n",
    "        self.levels = np.asarray(levels, dtype='float64')\n",
    "        self._x = self.levels/ self.levels.max()\n",
    "        self.levmax = self.levels.max()\n",
    "        self.levmin = self.levels.min()\n",
    "        self._y = np.linspace(self.levmin, self.levmax, len(self.levels))\n",
    "\n",
    "    def __call__(self, xi, alpha=1.0, **kw):\n",
    "        yi = np.interp(xi, self._x, self._y)\n",
    "        return self.cmap(yi/self.levmax, alpha)"
   ]
  },
  {
   "cell_type": "code",
   "execution_count": 132,
   "metadata": {
    "colab": {
     "base_uri": "https://localhost:8080/",
     "height": 300
    },
    "colab_type": "code",
    "id": "nkIGAKoqORxQ",
    "outputId": "39a706be-9e96-4d2f-ba84-2b274c3f7c29"
   },
   "outputs": [
    {
     "data": {
      "text/plain": [
       "Text(0, 0.5, 'Learning Rate')"
      ]
     },
     "execution_count": 132,
     "metadata": {
      "tags": []
     },
     "output_type": "execute_result"
    },
    {
     "data": {
      "image/png": "[encoded data removed]",
      "text/plain": [
       "<Figure size 432x288 with 2 Axes>"
      ]
     },
     "metadata": {
      "needs_background": "light",
      "tags": []
     },
     "output_type": "display_data"
    }
   ],
   "source": [
    "levels = [0, 0.01, 0.02, 0.05, 0.1, 0.2, 0.5, 1, 2]\n",
    "cmap = cm.coolwarm\n",
    "plt.contourf(D,L, val.T - val.min(), levels = levels,\n",
    "             cmap = nlcmap(cmap, levels))\n",
    "plt.colorbar(label = 'Validation Loss')\n",
    "plt.xlabel('Dropout')\n",
    "plt.ylabel('Learning Rate')"
   ]
  },
  {
   "cell_type": "code",
   "execution_count": 129,
   "metadata": {
    "colab": {
     "base_uri": "https://localhost:8080/",
     "height": 34
    },
    "colab_type": "code",
    "id": "QGoUK7ehP1Ce",
    "outputId": "325e0ed5-c82b-418e-ff65-763fbde64fd0"
   },
   "outputs": [
    {
     "data": {
      "text/plain": [
       "(array([0, 0, 0, 1, 1]), array([4, 6, 8, 6, 9]))"
      ]
     },
     "execution_count": 129,
     "metadata": {
      "tags": []
     },
     "output_type": "execute_result"
    }
   ],
   "source": [
    "np.where(val <= val.min() + .01)"
   ]
  },
  {
   "cell_type": "markdown",
   "metadata": {
    "colab_type": "text",
    "id": "tGEMNvUpNZq0"
   },
   "source": [
    "## Lyapunov Spectrum"
   ]
  },
  {
   "cell_type": "code",
   "execution_count": 55,
   "metadata": {
    "colab": {
     "base_uri": "https://localhost:8080/",
     "height": 1000
    },
    "colab_type": "code",
    "id": "0N9NSNuQKiik",
    "outputId": "76015803-4494-4963-a7ce-a124e63449c3"
   },
   "outputs": [
    {
     "name": "stderr",
     "output_type": "stream",
     "text": [
      "100%|██████████| 100/100 [01:08<00:00,  1.47it/s]\n",
      "/usr/local/lib/python3.6/dist-packages/torch/storage.py:34: FutureWarning: pickle support for Storage will be removed in 1.5. Use `torch.save` instead\n",
      "  warnings.warn(\"pickle support for Storage will be removed in 1.5. Use `torch.save` instead\", FutureWarning)\n",
      "100%|██████████| 100/100 [01:08<00:00,  1.46it/s]\n",
      "100%|██████████| 100/100 [01:07<00:00,  1.47it/s]\n",
      "100%|██████████| 100/100 [01:07<00:00,  1.49it/s]\n",
      "100%|██████████| 100/100 [01:06<00:00,  1.49it/s]\n",
      "100%|██████████| 100/100 [01:07<00:00,  1.49it/s]\n",
      "100%|██████████| 100/100 [01:06<00:00,  1.50it/s]\n",
      "100%|██████████| 100/100 [01:06<00:00,  1.50it/s]\n",
      "100%|██████████| 100/100 [01:06<00:00,  1.51it/s]\n",
      "100%|██████████| 100/100 [01:05<00:00,  1.52it/s]\n",
      "100%|██████████| 100/100 [01:05<00:00,  1.53it/s]\n",
      "100%|██████████| 100/100 [01:05<00:00,  1.52it/s]\n",
      "100%|██████████| 100/100 [01:05<00:00,  1.53it/s]\n",
      "100%|██████████| 100/100 [01:05<00:00,  1.53it/s]\n",
      "100%|██████████| 100/100 [01:06<00:00,  1.51it/s]\n",
      "100%|██████████| 100/100 [01:06<00:00,  1.49it/s]\n",
      "100%|██████████| 100/100 [01:06<00:00,  1.49it/s]\n",
      "100%|██████████| 100/100 [01:06<00:00,  1.50it/s]\n",
      "100%|██████████| 100/100 [01:06<00:00,  1.51it/s]\n",
      "100%|██████████| 100/100 [01:06<00:00,  1.51it/s]\n",
      "100%|██████████| 100/100 [01:06<00:00,  1.51it/s]\n",
      "100%|██████████| 100/100 [01:05<00:00,  1.52it/s]\n",
      "100%|██████████| 100/100 [01:05<00:00,  1.52it/s]\n",
      "100%|██████████| 100/100 [01:05<00:00,  1.53it/s]\n",
      "100%|██████████| 100/100 [01:02<00:00,  1.60it/s]\n",
      "100%|██████████| 100/100 [01:02<00:00,  1.60it/s]\n",
      "100%|██████████| 100/100 [01:02<00:00,  1.61it/s]\n",
      "100%|██████████| 100/100 [01:01<00:00,  1.62it/s]\n",
      "100%|██████████| 100/100 [01:01<00:00,  1.62it/s]\n",
      "100%|██████████| 100/100 [01:01<00:00,  1.62it/s]\n",
      "100%|██████████| 100/100 [01:01<00:00,  1.61it/s]\n",
      "100%|██████████| 100/100 [01:01<00:00,  1.63it/s]\n",
      "100%|██████████| 100/100 [01:01<00:00,  1.63it/s]\n",
      "100%|██████████| 100/100 [01:01<00:00,  1.62it/s]\n",
      "100%|██████████| 100/100 [01:01<00:00,  1.63it/s]\n",
      "100%|██████████| 100/100 [01:01<00:00,  1.62it/s]\n",
      "100%|██████████| 100/100 [01:03<00:00,  1.57it/s]\n",
      "100%|██████████| 100/100 [01:06<00:00,  1.50it/s]\n",
      "100%|██████████| 100/100 [01:05<00:00,  1.53it/s]\n",
      "100%|██████████| 100/100 [01:04<00:00,  1.55it/s]\n",
      "100%|██████████| 100/100 [01:04<00:00,  1.55it/s]\n",
      "100%|██████████| 100/100 [01:03<00:00,  1.56it/s]\n",
      "100%|██████████| 100/100 [01:03<00:00,  1.58it/s]\n",
      "100%|██████████| 100/100 [01:03<00:00,  1.57it/s]\n",
      "100%|██████████| 100/100 [01:03<00:00,  1.57it/s]\n",
      "100%|██████████| 100/100 [01:03<00:00,  1.58it/s]\n",
      "100%|██████████| 100/100 [01:02<00:00,  1.60it/s]\n",
      "100%|██████████| 100/100 [01:02<00:00,  1.59it/s]\n",
      "100%|██████████| 100/100 [01:02<00:00,  1.61it/s]\n",
      "100%|██████████| 100/100 [01:02<00:00,  1.61it/s]\n",
      "100%|██████████| 100/100 [01:01<00:00,  1.62it/s]\n",
      "100%|██████████| 100/100 [01:01<00:00,  1.62it/s]\n",
      "100%|██████████| 100/100 [01:00<00:00,  1.65it/s]\n",
      "100%|██████████| 100/100 [01:02<00:00,  1.60it/s]\n",
      "100%|██████████| 100/100 [01:02<00:00,  1.60it/s]\n",
      "100%|██████████| 100/100 [01:01<00:00,  1.62it/s]\n",
      "100%|██████████| 100/100 [01:01<00:00,  1.63it/s]\n",
      "100%|██████████| 100/100 [01:02<00:00,  1.61it/s]\n",
      "100%|██████████| 100/100 [01:02<00:00,  1.61it/s]\n",
      "100%|██████████| 100/100 [01:02<00:00,  1.60it/s]\n",
      "100%|██████████| 100/100 [01:03<00:00,  1.58it/s]\n",
      "100%|██████████| 100/100 [01:04<00:00,  1.55it/s]\n",
      "100%|██████████| 100/100 [01:05<00:00,  1.52it/s]\n",
      "100%|██████████| 100/100 [01:06<00:00,  1.50it/s]\n",
      "100%|██████████| 100/100 [01:07<00:00,  1.49it/s]\n",
      "100%|██████████| 100/100 [01:07<00:00,  1.48it/s]\n",
      "100%|██████████| 100/100 [01:07<00:00,  1.48it/s]\n",
      "100%|██████████| 100/100 [01:08<00:00,  1.47it/s]\n",
      "100%|██████████| 100/100 [01:08<00:00,  1.46it/s]\n",
      "100%|██████████| 100/100 [01:09<00:00,  1.45it/s]\n",
      "100%|██████████| 100/100 [01:10<00:00,  1.43it/s]\n",
      "100%|██████████| 100/100 [01:10<00:00,  1.41it/s]\n",
      "100%|██████████| 100/100 [01:10<00:00,  1.43it/s]\n",
      "100%|██████████| 100/100 [01:10<00:00,  1.42it/s]\n",
      "100%|██████████| 100/100 [01:10<00:00,  1.42it/s]\n",
      "100%|██████████| 100/100 [01:10<00:00,  1.42it/s]\n",
      "100%|██████████| 100/100 [01:10<00:00,  1.42it/s]\n",
      "100%|██████████| 100/100 [01:10<00:00,  1.41it/s]\n",
      "100%|██████████| 100/100 [01:10<00:00,  1.42it/s]\n",
      "100%|██████████| 100/100 [01:09<00:00,  1.43it/s]\n",
      "100%|██████████| 100/100 [01:09<00:00,  1.43it/s]\n",
      "100%|██████████| 100/100 [01:10<00:00,  1.42it/s]\n",
      "100%|██████████| 100/100 [01:09<00:00,  1.43it/s]\n",
      "100%|██████████| 100/100 [01:09<00:00,  1.43it/s]\n",
      "100%|██████████| 100/100 [01:09<00:00,  1.44it/s]\n",
      "100%|██████████| 100/100 [01:09<00:00,  1.44it/s]\n",
      "100%|██████████| 100/100 [01:07<00:00,  1.48it/s]\n",
      "100%|██████████| 100/100 [01:06<00:00,  1.51it/s]\n",
      "100%|██████████| 100/100 [01:04<00:00,  1.55it/s]\n",
      "100%|██████████| 100/100 [01:02<00:00,  1.59it/s]\n",
      "100%|██████████| 100/100 [01:01<00:00,  1.62it/s]\n",
      "100%|██████████| 100/100 [01:01<00:00,  1.62it/s]\n",
      "100%|██████████| 100/100 [01:01<00:00,  1.63it/s]\n",
      "100%|██████████| 100/100 [01:00<00:00,  1.65it/s]\n",
      "100%|██████████| 100/100 [00:59<00:00,  1.67it/s]\n",
      "100%|██████████| 100/100 [01:00<00:00,  1.64it/s]\n",
      "100%|██████████| 100/100 [00:59<00:00,  1.68it/s]\n",
      "100%|██████████| 100/100 [00:59<00:00,  1.68it/s]\n",
      "100%|██████████| 100/100 [00:59<00:00,  1.69it/s]\n",
      "100%|██████████| 100/100 [00:59<00:00,  1.69it/s]\n",
      "100%|██████████| 100/100 [00:58<00:00,  1.70it/s]\n",
      "100%|██████████| 100/100 [00:59<00:00,  1.69it/s]\n",
      "100%|██████████| 100/100 [00:58<00:00,  1.70it/s]\n",
      "100%|██████████| 100/100 [00:59<00:00,  1.69it/s]\n",
      "100%|██████████| 100/100 [00:58<00:00,  1.70it/s]\n",
      "100%|██████████| 100/100 [00:59<00:00,  1.67it/s]\n",
      "100%|██████████| 100/100 [00:59<00:00,  1.69it/s]\n",
      "100%|██████████| 100/100 [00:59<00:00,  1.69it/s]\n",
      "100%|██████████| 100/100 [00:59<00:00,  1.69it/s]\n",
      "100%|██████████| 100/100 [00:59<00:00,  1.69it/s]\n"
     ]
    }
   ],
   "source": [
    "D,L = np.meshgrid(dos, lrs)\n",
    "model_dir = top_directory+'/HP/Models'\n",
    "hp_epoch = 4 #Select which epoch (must already be trained) that you would like to calculate the Lyapunov Spectrum for\n",
    "for do, lr in zip(D.flatten(), L.flatten()):\n",
    "    con = Config(model_dir = model_dir, data_dir = model_dir, hidden_size = 512, \n",
    "                    dropout = do, learning_rate= lr, max_epochs = max_epochs, batch_size = 100)\n",
    "    net = CharRNN(con.num_layers, vocab_size, con.hidden_size, model=con.rnn_model, p_drop = con.dropout, embedded = None)\n",
    "    net.load_state_dict(torch.load(path.join(con.model_dir, con.full_name)+'_e{}.pth'.format(max_epochs)))\n",
    "    con.batch_size = 10\n",
    "    LEs = le_cal(net, con, dynamics = False)\n",
    "    pkl.dump(LEs, open(path.join(con.model_dir, con.full_name+'_e{}_LEStats.p'.format(con.hp_epoch)), 'wb'))"
   ]
  },
  {
   "cell_type": "markdown",
   "metadata": {
    "colab_type": "text",
    "id": "TaRY3juK9CUX"
   },
   "source": [
    "## Metric Calculation (on LE spectrum)"
   ]
  },
  {
   "cell_type": "markdown",
   "metadata": {
    "colab_type": "text",
    "id": "Uw4rLOA-MoFU"
   },
   "source": [
    "### Threshold & Slope Metrics"
   ]
  },
  {
   "cell_type": "code",
   "execution_count": 6,
   "metadata": {},
   "outputs": [],
   "source": [
    "def best_fit_slope(x,y):\n",
    "#     m = np.mean(ys)\n",
    "    xs = torch.Tensor(x)\n",
    "    ys = torch.Tensor(y)\n",
    "    m = (((torch.mean(xs)*torch.mean(ys)) - torch.mean(xs*ys)) /\n",
    "         ((torch.mean(xs)**2) - torch.mean(xs**2)))\n",
    "    return m"
   ]
  },
  {
   "cell_type": "code",
   "execution_count": 0,
   "metadata": {
    "colab": {},
    "colab_type": "code",
    "id": "LATfPu3M9Cbc"
   },
   "outputs": [],
   "source": [
    "D, L = np.meshgrid(dos,lrs)\n",
    "LE_means = []\n",
    "\n",
    "max_epochs = 4\n",
    "for do, lr in zip(D.flatten(), L.flatten()):\n",
    "    con = Config(model_dir = model_dir, data_dir = model_dir, hidden_size = 512, \n",
    "                    dropout = do, learning_rate= lr, max_epochs = max_epochs, batch_size = 100)\n",
    "    LE_stats = pkl.load(open(path.join(con.model_dir, con.full_name+'_e{}_LEStats.p'.format(con.max_epochs)), 'rb'))\n",
    "    LE_means.append(LE_stats[0])\n",
    "# LE_means = np.array(LE_means)"
   ]
  },
  {
   "cell_type": "code",
   "execution_count": 0,
   "metadata": {
    "colab": {},
    "colab_type": "code",
    "id": "CByuc-ZqOfKK"
   },
   "outputs": [],
   "source": [
    "thresh_val = -3\n",
    "slope_inds = [50,100]\n",
    "slopes = []\n",
    "thresh = []\n",
    "for LE_mean in LE_means:\n",
    "    thresh.append(sum(np.array(LE_mean>thresh_val, dtype = int)))\n",
    "    slopes.append(best_fit_slope(np.array(range(slope_inds[0], slope_inds[1])), np.array(LE_mean[slope_inds[0]:slope_inds[1]])))\n",
    "thresh = np.array(thresh)\n",
    "slopes = np.array(slopes)"
   ]
  },
  {
   "cell_type": "code",
   "execution_count": 0,
   "metadata": {
    "colab": {},
    "colab_type": "code",
    "id": "-f7AzTDt9Cbf"
   },
   "outputs": [],
   "source": [
    "val = np.zeros((len(dos), len(lrs)))\n",
    "for i, do in enumerate(dos):\n",
    "    for j, lr in enumerate(lrs):\n",
    "        con = Config(top_directory+'/HP', hidden_size = 512, dropout = do, learning_rate = lr, max_epochs = max_epochs, init_type = 'uniform',\n",
    "                 init_param = 0.08)\n",
    "        val_loss = pkl.load(open('{}/{}_valLossFull.p'.format(con.model_dir, con.full_name),'rb'))\n",
    "        val[i,j] = val_loss[-1]"
   ]
  },
  {
   "cell_type": "code",
   "execution_count": 7,
   "metadata": {
    "colab": {
     "base_uri": "https://localhost:8080/",
     "height": 282
    },
    "colab_type": "code",
    "id": "oivvCfJLQ1im",
    "outputId": "e18a8c44-d76d-4a76-ccef-230a46a6b5a3"
   },
   "outputs": [
    {
     "ename": "NameError",
     "evalue": "name 'thresh' is not defined",
     "output_type": "error",
     "traceback": [
      "\u001b[1;31m---------------------------------------------------------------------------\u001b[0m",
      "\u001b[1;31mNameError\u001b[0m                                 Traceback (most recent call last)",
      "\u001b[1;32m<ipython-input-7-2a8d75a931c0>\u001b[0m in \u001b[0;36m<module>\u001b[1;34m\u001b[0m\n\u001b[1;32m----> 1\u001b[1;33m \u001b[0mplt\u001b[0m\u001b[1;33m.\u001b[0m\u001b[0mscatter\u001b[0m\u001b[1;33m(\u001b[0m\u001b[0mthresh\u001b[0m\u001b[1;33m,\u001b[0m \u001b[0mval\u001b[0m\u001b[1;33m.\u001b[0m\u001b[0mflatten\u001b[0m\u001b[1;33m(\u001b[0m\u001b[1;33m)\u001b[0m\u001b[1;33m)\u001b[0m\u001b[1;33m\u001b[0m\u001b[1;33m\u001b[0m\u001b[0m\n\u001b[0m",
      "\u001b[1;31mNameError\u001b[0m: name 'thresh' is not defined"
     ]
    }
   ],
   "source": [
    "plt.scatter(slopes, val.flatten())"
   ]
  },
  {
   "cell_type": "markdown",
   "metadata": {
    "colab_type": "text",
    "id": "dnJe_AQ39Cbg"
   },
   "source": [
    "# Generate Plots"
   ]
  },
  {
   "cell_type": "code",
   "execution_count": 0,
   "metadata": {
    "colab": {},
    "colab_type": "code",
    "id": "MhCFVTUg9Cbh",
    "outputId": "d87f06ad-2052-436f-84cc-f5390d2d7d7b"
   },
   "outputs": [
    {
     "data": {
      "image/png": "[encoded data removed]",
      "text/plain": [
       "<Figure size 288x216 with 1 Axes>"
      ]
     },
     "metadata": {
      "needs_background": "light",
      "tags": []
     },
     "output_type": "display_data"
    }
   ],
   "source": [
    "plt.rc('font', family = 'serif')\n",
    "plt.rc('xtick', labelsize = 'x-small')\n",
    "plt.rc('ytick', labelsize = 'x-small')\n",
    "fig = plt.figure(figsize = (4,3))\n",
    "\n",
    "ax = fig.add_subplot(1, 1, 1)\n",
    "plt.scatter(thresh3, val_losses, s= 20, edgecolors = 'k', facecolors = 'none')\n",
    "ax.set_xlabel('Number of exponents greater than -3')\n",
    "ax.set_ylabel('Validation/Test Loss')\n",
    "plt.savefig(\"Thresh_ValPlot.png\",bbox_inches=\"tight\",dpi=400, format = 'png')\n",
    "# ax.set_title('Threshold of 3 vs Validation/Test loss')"
   ]
  },
  {
   "cell_type": "code",
   "execution_count": 0,
   "metadata": {
    "colab": {},
    "colab_type": "code",
    "id": "Hp8dyKBZ9Cbj",
    "outputId": "b9b48932-78d6-44d5-cd74-30aaa750a5d4"
   },
   "outputs": [
    {
     "data": {
      "image/png": "[encoded data removed]",
      "text/plain": [
       "<Figure size 288x216 with 1 Axes>"
      ]
     },
     "metadata": {
      "needs_background": "light",
      "tags": []
     },
     "output_type": "display_data"
    },
    {
     "data": {
      "image/png": "[encoded data removed]",
      "text/plain": [
       "<Figure size 288x216 with 1 Axes>"
      ]
     },
     "metadata": {
      "needs_background": "light",
      "tags": []
     },
     "output_type": "display_data"
    }
   ],
   "source": [
    "plt.figure(figsize = (4,3))\n",
    "for idx in range(6):\n",
    "    plt.scatter(range(0,512), LE_means[idx], s = 2, label = idx)\n",
    "# plt.plot([0, 512], [0, 0], 'k--')\n",
    "# plt.title('Lyapunov spectra of LSTM')\n",
    "plt.ylabel('Exponent value')\n",
    "plt.xlabel('Exponent index')\n",
    "plt.ylim([-8, 0])\n",
    "plt.xlim([0, 512])\n",
    "plt.legend(title = 'Trial')\n",
    "plt.savefig(\"Trial Spectra.png\",bbox_inches=\"tight\",dpi=400, format = 'png')\n",
    "\n",
    "plt.figure(figsize = (4,3))\n",
    "for i in range(5):\n",
    "    plt.scatter(i, val_losses[i])\n",
    "plt.xlabel('Trial #')\n",
    "plt.ylabel('Validation Loss')\n",
    "plt.savefig(\"Trial Validation Loss.png\",bbox_inches=\"tight\",dpi=400, format = 'png')"
   ]
  },
  {
   "cell_type": "code",
   "execution_count": 0,
   "metadata": {
    "colab": {},
    "colab_type": "code",
    "id": "6TofGLOV9Cbt",
    "outputId": "e09b791e-97f2-4160-a9a0-4f6232474653"
   },
   "outputs": [
    {
     "data": {
      "image/png": "[encoded data removed]",
      "text/plain": [
       "<Figure size 288x216 with 1 Axes>"
      ]
     },
     "metadata": {
      "needs_background": "light",
      "tags": []
     },
     "output_type": "display_data"
    }
   ],
   "source": [
    "fig = plt.figure(figsize = (4,3))\n",
    "\n",
    "ax = fig.add_subplot(1, 1, 1)\n",
    "plt.scatter(slopes, val_losses, s= 20, edgecolors = 'k', facecolors = 'none')\n",
    "ax.set_xlabel('Lyapunov Spectrum Slope')\n",
    "ax.set_ylabel('Validation/Test Loss')\n",
    "ax.set_xlim([min(slopes) - .0005, max(slopes) + .0005])\n",
    "plt.savefig(\"Slopes_ValPlot.png\",bbox_inches=\"tight\",dpi=400, format = 'png')\n",
    "# ax.set_title('Threshold of 3 vs Validation/Test loss')"
   ]
  },
  {
   "cell_type": "code",
   "execution_count": 0,
   "metadata": {
    "colab": {},
    "colab_type": "code",
    "id": "ezKQn8KP9Cbv",
    "outputId": "53d8a686-fe59-42c7-af41-9a739c32c333"
   },
   "outputs": [
    {
     "data": {
      "image/png": "[encoded data removed]",
      "text/plain": [
       "<Figure size 288x216 with 1 Axes>"
      ]
     },
     "metadata": {
      "needs_background": "light",
      "tags": []
     },
     "output_type": "display_data"
    }
   ],
   "source": [
    "fig = plt.figure(figsize = (4,3))\n",
    "\n",
    "ax = fig.add_subplot(1, 1, 1)\n",
    "plt.scatter(lrs, val_losses, s= 20, edgecolors = 'k', facecolors = 'none')\n",
    "ax.set_xlabel('Learning Rate')\n",
    "ax.set_ylabel('Validation/Test Loss')\n",
    "ax.set_xlim([min(lrs) - .0005, max(lrs) + .0005])\n",
    "# ax.set_xscale('log')\n",
    "plt.savefig(\"LR_ValPlot.png\",bbox_inches=\"tight\",dpi=400, format = 'png')\n",
    "# ax.set_title('Threshold of 3 vs Validation/Test loss')"
   ]
  },
  {
   "cell_type": "code",
   "execution_count": 0,
   "metadata": {
    "colab": {},
    "colab_type": "code",
    "id": "a_Eew-ke9Cb_",
    "outputId": "60df0f9b-14a5-47c3-d26c-3dbad9b7557d"
   },
   "outputs": [
    {
     "data": {
      "image/png": "[encoded data removed]",
      "text/plain": [
       "<Figure size 288x216 with 2 Axes>"
      ]
     },
     "metadata": {
      "needs_background": "light",
      "tags": []
     },
     "output_type": "display_data"
    }
   ],
   "source": [
    "plt.rc('font', family = 'serif')\n",
    "plt.rc('xtick', labelsize = 'x-small')\n",
    "plt.rc('ytick', labelsize = 'x-small')\n",
    "fig = plt.figure(figsize = (4,3))\n",
    "\n",
    "ax = fig.add_subplot(111)#, projection = '2d')\n",
    "plt.scatter(slopes, thresh3, s = 40, c = val_losses)\n",
    "# ax.set_xlabel('Slope')\n",
    "# ax.set_ylabel('Threshold')\n",
    "# ax.set_xlim([min(slopes)-.001, max(slopes)+.001])\n",
    "plt.xlabel('Slope')\n",
    "plt.ylabel('Threshold')\n",
    "plt.xlim([min(slopes)-.001, max(slopes)+.001])\n",
    "cbar = plt.colorbar()\n",
    "cbar.set_label(\"Validation Loss\")\n",
    "# ax.set_zlabel('Validation Loss')\n",
    "# ax.view_init(90, 90)"
   ]
  },
  {
   "cell_type": "code",
   "execution_count": 0,
   "metadata": {
    "colab": {},
    "colab_type": "code",
    "id": "iaytByVr9CcB",
    "outputId": "45cf7381-74c9-47ca-fa56-32bae892f9f8"
   },
   "outputs": [
    {
     "data": {
      "image/png": "[encoded data removed]",
      "text/plain": [
       "<Figure size 288x216 with 2 Axes>"
      ]
     },
     "metadata": {
      "needs_background": "light",
      "tags": []
     },
     "output_type": "display_data"
    }
   ],
   "source": [
    "plt.rc('font', family = 'serif')\n",
    "plt.rc('xtick', labelsize = 'x-small')\n",
    "plt.rc('ytick', labelsize = 'x-small')\n",
    "fig = plt.figure(figsize = (4,3))\n",
    "\n",
    "ax = fig.add_subplot(111)#, projection = '2d')\n",
    "plt.scatter(dos, lrs, s = 40, c = val_losses)\n",
    "# ax.set_xlabel('Slope')\n",
    "# ax.set_ylabel('Threshold')\n",
    "# ax.set_xlim([min(slopes)-.001, max(slopes)+.001])\n",
    "plt.xlabel('Dropout')\n",
    "plt.ylabel('Learning Rate')\n",
    "plt.xlim([min(dos)-.001, max(dos)+.001])\n",
    "plt.ylim([min(lrs)-.001, max(lrs)+.001])\n",
    "cbar = plt.colorbar()\n",
    "cbar.set_label(\"Validation Loss\")\n",
    "# ax.set_zlabel('Validation Loss')\n",
    "# ax.view_init(90, 90)"
   ]
  },
  {
   "cell_type": "code",
   "execution_count": 0,
   "metadata": {
    "colab": {},
    "colab_type": "code",
    "id": "OcRICj1O9CcE"
   },
   "outputs": [],
   "source": []
  }
 ],
 "metadata": {
  "accelerator": "GPU",
  "colab": {
   "collapsed_sections": [
    "TaRY3juK9CUX",
    "dnJe_AQ39Cbg"
   ],
   "name": "HP_Search.ipynb",
   "provenance": []
  },
  "kernelspec": {
   "display_name": "Python 3",
   "language": "python",
   "name": "python3"
  },
  "language_info": {
   "codemirror_mode": {
    "name": "ipython",
    "version": 3
   },
   "file_extension": ".py",
   "mimetype": "text/x-python",
   "name": "python",
   "nbconvert_exporter": "python",
   "pygments_lexer": "ipython3",
   "version": "3.6.8"
  }
 },
 "nbformat": 4,
 "nbformat_minor": 1
}
