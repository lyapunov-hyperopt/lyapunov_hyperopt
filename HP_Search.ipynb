{
 "cells": [
  {
   "cell_type": "code",
   "execution_count": 75,
   "metadata": {},
   "outputs": [],
   "source": [
    "import os\n",
    "import matplotlib.pyplot as plt\n",
    "\n",
    "import numpy as np\n",
    "import chainer\n",
    "\n",
    "import pickle as pkl\n",
    "import matplotlib\n",
    "import math\n",
    "\n",
    "from torch.autograd import Variable\n",
    "from torch.nn import RNN, GRU, LSTM, Linear, Embedding\n",
    "from tqdm import tqdm\n",
    "from torch import nn\n",
    "import torch\n",
    "from keras.utils import to_categorical\n",
    "\n",
    "import lyapunov as l\n",
    "from importlib import reload  # Python 3.4+ only.\n",
    "import gc\n",
    "import sys\n",
    "from math import floor\n",
    "from importlib import reload\n",
    "from matplotlib import cm\n",
    "from matplotlib.lines import Line2D\n",
    "from hyperopt import hp, fmin, tpe, STATUS_OK, Trials\n",
    "import matplotlib\n",
    "\n",
    "from random import random\n",
    "from random import seed\n",
    "\n",
    "if torch.cuda.is_available():\n",
    "    device = torch.device('cuda')\n",
    "else:\n",
    "    device = torch.device('cpu')\n",
    "    \n",
    "import os.path as path\n",
    "\n",
    "import dataloader as dl"
   ]
  },
  {
   "cell_type": "code",
   "execution_count": 23,
   "metadata": {},
   "outputs": [],
   "source": [
    "from mpl_toolkits.mplot3d import Axes3D  # noqa: F401 unused import"
   ]
  },
  {
   "cell_type": "code",
   "execution_count": 2,
   "metadata": {},
   "outputs": [],
   "source": [
    "class Config:\n",
    "    def __init__(self, data_dir = 'CharRNN/WP/HP', rnn_model = 'lstm', hidden_size = 128, num_layers = 1, dropout = 0.0, learning_rate = .002, embedded = 'one-hot',\n",
    "                 seq_length = 100, batch_size= 100, max_epochs = 50, decay_rate = 0.95, decay_start = 10, train_frac = 0.8, val_frac = 0.1, cuda = torch.cuda.is_available(), model_dir = 'CharRNN/WP/HP/Models',\n",
    "                 print_interval = 100, optimizer = 'adam'):\n",
    "        \n",
    "        self.data_dir = data_dir \n",
    "        \n",
    "        self.rnn_model = rnn_model\n",
    "        self.hidden_size = hidden_size\n",
    "        self.num_layers = num_layers\n",
    "        self.dropout = dropout\n",
    "        self.embedded = embedded\n",
    "        \n",
    "        self.learning_rate = learning_rate #initial learning rate\n",
    "        self.optimizer = optimizer\n",
    "        self.seq_length = seq_length\n",
    "        self.batch_size = batch_size\n",
    "        self.max_epochs = max_epochs\n",
    "        self.decay_rate = decay_rate\n",
    "        self.decay_start = decay_start\n",
    "        self.train_frac = train_frac\n",
    "        self.val_frac = val_frac\n",
    "        \n",
    "        self.cuda = cuda\n",
    "        self.model_dir = model_dir\n",
    "        self.full_name = \"{}_L{}_H{}_drop{}_{}_lr{}\".format(self.rnn_model, self.num_layers, self.hidden_size, self.dropout, self.learning_rate, self.optimizer)\n",
    "#         self.full_name = \"{}_L{}_H{}_drop{}_{}\".format(self.rnn_model, self.num_layers, self.hidden_size, self.dropout, self.optimizer)\n",
    "\n",
    "        self.print_interval = print_interval"
   ]
  },
  {
   "cell_type": "markdown",
   "metadata": {},
   "source": [
    "## Data Preprocessing"
   ]
  },
  {
   "cell_type": "code",
   "execution_count": 3,
   "metadata": {
    "scrolled": true
   },
   "outputs": [
    {
     "name": "stdout",
     "output_type": "stream",
     "text": [
      "Loading  CharRNN/WP/HP\\data.pkl ...\n",
      "Loading  CharRNN/WP/HP\\vocab.pkl ...\n",
      "None\n",
      "Cutting off end of data so that it divides evenly\n",
      "Data load done! Number of data batches in train: 256, val: 32, test: 31\n"
     ]
    }
   ],
   "source": [
    "con = Config()\n",
    "train_set, val_set, test_set, (char_to_int, int_to_char) = dl.create_dataset(con)\n",
    "train_input_set, train_target_set = train_set[0], train_set[1]\n",
    "val_input_set, val_target_set = val_set[0], val_set[1]\n",
    "test_input_set, test_target_set = test_set[0], test_set[1] \n",
    "vocab_size = len(char_to_int)"
   ]
  },
  {
   "cell_type": "code",
   "execution_count": null,
   "metadata": {},
   "outputs": [],
   "source": []
  },
  {
   "cell_type": "code",
   "execution_count": 4,
   "metadata": {},
   "outputs": [],
   "source": [
    "rnn_sizes = [157, 289, 549]\n",
    "lstm_sizes = [64, 128, 256, 512]\n",
    "gru_sizes = [78, 153, 301, 597]"
   ]
  },
  {
   "cell_type": "code",
   "execution_count": null,
   "metadata": {},
   "outputs": [],
   "source": [
    "val_input_set.shape"
   ]
  },
  {
   "cell_type": "code",
   "execution_count": 5,
   "metadata": {},
   "outputs": [],
   "source": [
    "val_input_set = torch.cat((val_input_set, test_input_set), dim=0)\n",
    "val_target_set = torch.cat((val_target_set, test_target_set), dim=0)\n",
    "val_set = (val_input_set, val_target_set)"
   ]
  },
  {
   "cell_type": "markdown",
   "metadata": {},
   "source": [
    "## Create Model Template, Train and Validation functions"
   ]
  },
  {
   "cell_type": "code",
   "execution_count": 4,
   "metadata": {},
   "outputs": [],
   "source": [
    "# build the model using the pytorch nn module\n",
    "class CharRNN(nn.ModuleList):\n",
    "    def __init__(self, num_layers, vocab_size, hidden_size, model = 'lstm', p_drop = 0.0, embedded = 'one-hot', dynamics = False, cuda = torch.cuda.is_available()):\n",
    "        super(CharRNN, self).__init__()\n",
    "        \n",
    "        # init the meta parameters\n",
    "        self.num_layers = num_layers\n",
    "        self.hidden_size = hidden_size\n",
    "        self.vocab_size = vocab_size\n",
    "        self.model = model\n",
    "        self.L = self.num_layers*self.hidden_size\n",
    "        self.dynamics = dynamics\n",
    "        self.embedded = embedded\n",
    "        self.device = torch.device('cuda') if cuda else torch.device('cpu')\n",
    "        \n",
    "        if self.embedded == None:\n",
    "            self.encoder = nn.Identity()\n",
    "        elif self.embedded == 'embedding':\n",
    "            self.encoder = Embedding(input_size, input_size)\n",
    "        elif self.embedded == 'one-hot':\n",
    "            self.encoder = lambda xt: torch.from_numpy(to_categorical(xt.cpu(), self.vocab_size)).to(self.device)\n",
    "        else:\n",
    "            raise Exception('Embedding type not defined')\n",
    "            \n",
    "            \n",
    "        if model == 'rnn':\n",
    "            self.rnn_layer = RNN(num_layers = self.num_layers, hidden_size=hidden_size, input_size=vocab_size, batch_first=True, bias = False)\n",
    "            self.gate_size = hidden_size\n",
    "        elif model == 'gru':\n",
    "            self.rnn_layer = GRU(num_layers = self.num_layers, hidden_size=hidden_size, input_size=vocab_size, batch_first=True, bias = False)\n",
    "            self.gate_size = 3*hidden_size\n",
    "        elif model == 'lstm':\n",
    "            self.rnn_layer = LSTM(num_layers = self.num_layers, hidden_size=hidden_size, input_size=vocab_size, batch_first=True, bias = False)\n",
    "            self.gate_size = 4*hidden_size\n",
    "        else:\n",
    "            raise Exception('Recurrent model not defined. Exitting.')\n",
    "        \n",
    "        #Initialize weights to all be between -0.08 and 0.08 \n",
    "        for layer_p in self.rnn_layer._all_weights:\n",
    "            for p in layer_p:\n",
    "                if 'weight' in p:\n",
    "                    nn.init.uniform_(self.rnn_layer.__getattr__(p), -0.08, 0.08)\n",
    "        \n",
    "        self.dropout = nn.Dropout(p=p_drop)\n",
    "        self.fc = Linear(in_features = hidden_size, out_features = vocab_size, bias = False)\n",
    "        \n",
    "    def forward(self, xt, h):\n",
    "        encoded = self.encoder(xt)\n",
    "        self.rnn_layer.flatten_parameters()\n",
    "        rnn_out, rnn_hn = self.rnn_layer(encoded, h)\n",
    "        d_out = self.dropout(rnn_out)\n",
    "        output = self.fc(d_out)\n",
    "        return output, rnn_hn\n",
    "    \n",
    "    \n",
    "    def init_hidden(self, batch_size):\n",
    "        if self.model == 'lstm':\n",
    "            if self.dynamics:\n",
    "                return (Variable(torch.randn(self.num_layers, batch_size, self.hidden_size)).to(device),\n",
    "                    Variable(torch.randn(self.num_layers, batch_size, self.hidden_size)).to(device))\n",
    "            else:\n",
    "                return (Variable(torch.zeros(self.num_layers, batch_size, self.hidden_size)).to(device),\n",
    "                    Variable(torch.zeros(self.num_layers, batch_size, self.hidden_size)).to(self.device))\n",
    "\n",
    "        if self.dynamics:\n",
    "            return Variable(torch.randn(self.num_layers, batch_size, self.hidden_size)).to(device)\n",
    "        else:\n",
    "            return Variable(torch.zeros(self.num_layers, batch_size, self.hidden_size)).to(device)\n"
   ]
  },
  {
   "cell_type": "code",
   "execution_count": 5,
   "metadata": {},
   "outputs": [],
   "source": [
    "def train_hp(train_set, val_set, vocab_size, config, init_epoch = 0, save_losses = True):\n",
    "    device = torch.device('cuda') if config.cuda else torch.device('cpu')\n",
    "    char_rnn = CharRNN(vocab_size = vocab_size, num_layers= config.num_layers, hidden_size = config.hidden_size, model = config.rnn_model, p_drop = config.dropout, embedded = config.embedded).to(device)\n",
    "    \n",
    "    # train_input_set : (train_batches, batch_size, seq_length); the rest are similar\n",
    "    train_input_set, train_target_set = train_set[0], train_set[1]\n",
    "    val_input_set, val_target_set = val_set[0], val_set[1]\n",
    "    \n",
    "    \n",
    "    criterion = nn.CrossEntropyLoss()   # include softmax\n",
    "    if config.optimizer == 'rms':\n",
    "        optimizer = torch.optim.RMSprop(params = char_rnn.parameters(), lr = config.learning_rate)\n",
    "    elif config.optimizer == 'adam':\n",
    "        optimizer = torch.optim.Adam(params = char_rnn.parameters(), lr = config.learning_rate)\n",
    "    else:\n",
    "        print(config.optimizer +'is not a recognized optimizer')\n",
    "        return\n",
    "    # learning rate decay\n",
    "    scheduler = torch.optim.lr_scheduler.MultiStepLR(optimizer, milestones = range(config.decay_start-init_epoch, config.max_epochs+1-init_epoch) , gamma = config.decay_rate)\n",
    "    \n",
    "    best_val_loss = sys.float_info.max\n",
    "    \n",
    "    train_losses = []\n",
    "    if init_epoch == 0:\n",
    "        torch.save(char_rnn.state_dict(), path.join(config.model_dir, \"{}_e0.pth\".format(config.full_name)))\n",
    "    else:\n",
    "        char_rnn.load_state_dict(torch.load(path.join(config.model_dir, config.full_name)+'_e{}.pth'.format(hp_epoch)))\n",
    "    for epoch_idx in tqdm(range(init_epoch+1, config.max_epochs + 1)): # for evary epoch\n",
    "#             print(\"Training for %d epochs...\" % epoch_idx)\n",
    "        running_loss = 0.0\n",
    "    \n",
    "    # initialize hidden states for every epoch\n",
    "        hidden = char_rnn.init_hidden(config.batch_size)  # (n_layers * n_directions, batch_size, hidden_size)\n",
    "        # ship to gpu if possible\n",
    "        if torch.cuda.is_available() and config.cuda:\n",
    "            if config.rnn_model == 'lstm':\n",
    "                hidden = tuple([x.cuda() for x in hidden])\n",
    "            else:\n",
    "                hidden = hidden.cuda()\n",
    "        \n",
    "        for batch_idx in range(1, train_input_set.shape[0] + 1):   # for every batch\n",
    "            # for every batch\n",
    "            optimizer.zero_grad()   # zero the parameter gradients\n",
    "\n",
    "            train_input = train_input_set[batch_idx - 1]\n",
    "\n",
    "            # ship to gpu if possible\n",
    "            if torch.cuda.is_available() and config.cuda:\n",
    "                train_input = train_input.cuda()\n",
    "            \n",
    "            xt = Variable(train_input)\n",
    "            # compute loss for this batch\n",
    "            loss = 0\n",
    "#                 for i in range(config.seq_length):  # for every time step in this batch\n",
    "            # forward pass\n",
    "#             print('xt shape: ' + str(xt.shape))\n",
    "            train_output, hidden = char_rnn(xt, hidden) # ignore gate values\n",
    "            # add up loss at each time step\n",
    "            loss += criterion(train_output.view(-1, vocab_size), Variable(train_target_set[batch_idx-1].view(config.seq_length*config.batch_size)).to(device))\n",
    "#             loss += criterion(train_output.view(config.batch_size, -1).cpu(),\n",
    "#                               Variable(train_target_set[batch_idx - 1]))\n",
    "\n",
    "#             detach hidden state from current computational graph for back-prop\n",
    "            if config.rnn_model == 'lstm':\n",
    "                for x in hidden:\n",
    "                    x.detach_()\n",
    "            else:\n",
    "                hidden.detach_()\n",
    "\n",
    "            # backward\n",
    "            loss.backward()\n",
    "            optimizer.step()\n",
    "            \n",
    "\n",
    "            # print statistics\n",
    "            running_loss += loss.item()\n",
    "#             if batch_idx % config.print_interval == 0:  # print_interval batches\n",
    "#                 print('[%d, %4d] loss: %.3f' % (epoch_idx, batch_idx, running_loss / config.print_interval))\n",
    "#                 running_loss = 0.0\n",
    "\n",
    "            '''\n",
    "            # validate model\n",
    "            val_loss = 0\n",
    "            # for every batch\n",
    "            for val_batch_idx in range(1, val_input_set.shape[0] + 1):\n",
    "                val_input = val_input_set[val_batch_idx - 1]\n",
    "                # ship to gpu if possible\n",
    "                if torch.cuda.is_available() and config.cuda:\n",
    "                    val_input = val_input.cuda()\n",
    "                for i in range(config.seq_length):  # for every time step in this batch\n",
    "                    # forward pass\n",
    "                    val_output, _, _ = char_rnn(Variable(val_input[:, i]), hidden)\n",
    "                    # add up loss at each time step\n",
    "                    val_loss += criterion(val_output.view(config.batch_size, -1).cpu(),\n",
    "                                          Variable(val_target_set[val_batch_idx - 1][:, i]))\n",
    "            val_loss /= val_input_set.shape[0]  # loss per batch\n",
    "            print('Validation loss: %.3f' % val_loss)\n",
    "            # save the best model sofar\n",
    "            if val_loss.data[0] < best_val_loss:\n",
    "                print('Saving model [%d, %4d]...' % (epoch_idx, batch_idx))\n",
    "                torch.save(char_rnn.state_dict(), path.join(config.model_dir, config.model + '.pth'))\n",
    "                # to load a saved model: char_rnn = CharRNN(*args, **kwargs), char_rnn.load_state_dict(torch.load(PATH))\n",
    "                best_val_loss = val_loss.data[0]\n",
    "            '''\n",
    "\n",
    "        train_losses.append(running_loss/(train_input_set.shape[0] + 1))\n",
    "#         print('Epoch %d Training Loss: %4f' % (epoch_idx, train_losses[epoch_idx-1]))\n",
    "        scheduler.step()    # lr decay\n",
    "        # save model after each epoch\n",
    "        torch.save(char_rnn.state_dict(), path.join(config.model_dir, config.full_name +\"_e{}.pth\".format(epoch_idx)))\n",
    "    if save_losses:\n",
    "        pkl.dump(train_losses, open(path.join(config.model_dir, config.full_name+\"_trainLoss.p\"), 'wb'))\n",
    "    return char_rnn"
   ]
  },
  {
   "cell_type": "code",
   "execution_count": 6,
   "metadata": {},
   "outputs": [],
   "source": [
    "def best_fit_slope(x,y):\n",
    "#     m = np.mean(ys)\n",
    "    xs = torch.Tensor(x)\n",
    "    ys = torch.Tensor(y)\n",
    "    m = (((torch.mean(xs)*torch.mean(ys)) - torch.mean(xs*ys)) /\n",
    "         ((torch.mean(xs)**2) - torch.mean(xs**2)))\n",
    "    return m"
   ]
  },
  {
   "cell_type": "code",
   "execution_count": 7,
   "metadata": {},
   "outputs": [],
   "source": [
    "def le_loss(net, con, slope_inds, dynamics = False):\n",
    "    net.dynamics = dynamics\n",
    "    batch_size, seq_length = con.batch_size, con.seq_length\n",
    "    xt_flat = torch.flatten(test_input_set)[:batch_size * seq_length * math.floor(test_input_set.nelement() / (batch_size * seq_length))]\n",
    "    idx = torch.randperm(xt_flat.nelement())\n",
    "    test_dr = torch.from_numpy(to_categorical(xt_flat[idx].view(-1, batch_size, seq_length), vocab_size)).to(device)\n",
    "    i = torch.randint(low = 0, high = test_dr.shape[0], size =  (1,)).item()\n",
    "\n",
    "\n",
    "    # net.load_state_dict(torch.load(path.join(con.model_dir, \"Models/\" + con.full_name)+'_e{}.pth'.format(epoch)))\n",
    "    h_l = net.init_hidden(con.batch_size)\n",
    "    LE_char, _ = l.calc_LEs_an(test_dr[i], h_l, model = net, k_LE = 10000, rec_layer = con.rnn_model)\n",
    "    \n",
    "    LE_mean, LE_std = l.LE_stats(LE_char)\n",
    "    slopes = best_fit_slope(np.array(range(slope_inds[0], slope_inds[1])), np.array(LE_mean[slope_inds[0]:slope_inds[1]]))\n",
    "    net.dynamics = False\n",
    "    return slopes, (LE_mean, LE_std)"
   ]
  },
  {
   "cell_type": "code",
   "execution_count": 8,
   "metadata": {},
   "outputs": [],
   "source": [
    "def model_idx(idx):\n",
    "    if idx == [0]:\n",
    "        return 'lstm', 512, 'l'\n",
    "    elif idx == [1]:\n",
    "        return 'gru', 597, 'g'\n",
    "    elif idx == [2]:\n",
    "        return 'rnn', 549, 'r'"
   ]
  },
  {
   "cell_type": "code",
   "execution_count": 9,
   "metadata": {},
   "outputs": [],
   "source": [
    "def val_epoch(config, val_set, vocab_size, epoch):\n",
    "    criterion = nn.CrossEntropyLoss()   # include softmax\n",
    "    if torch.cuda.is_available() and config.cuda:\n",
    "        device = torch.device('cuda')\n",
    "    val_input_set, val_target_set = val_set[0], val_set[1]\n",
    "    \n",
    "    char_rnn = CharRNN(config.num_layers, vocab_size, config.hidden_size, model=config.rnn_model, p_drop = config.dropout, embedded = config.embedded).to(device)\n",
    "    char_rnn.load_state_dict(torch.load(path.join(config.model_dir, config.full_name)+'_e{}.pth'.format(epoch)))\n",
    "    running_loss = 0.0\n",
    "\n",
    "    hidden = char_rnn.init_hidden(config.batch_size)  # (n_layers * n_directions, batch_size, hidden_size)\n",
    "    # ship to gpu if possible\n",
    "    if torch.cuda.is_available() and config.cuda:\n",
    "        if config.rnn_model == 'lstm':\n",
    "            hidden = tuple([x.cuda() for x in hidden])\n",
    "        else:\n",
    "            hidden = hidden.cuda()\n",
    "\n",
    "    for batch_idx in range(1, val_input_set.shape[0] + 1):   # for every batch\n",
    "#         print(batch_idx)\n",
    "        # for every batch\n",
    "        val_input = val_input_set[batch_idx - 1]\n",
    "\n",
    "        # ship to gpu if possible\n",
    "        if torch.cuda.is_available() and config.cuda:\n",
    "            val_input = val_input.cuda()\n",
    "\n",
    "        xt = Variable(val_input)\n",
    "        # compute loss for this batch\n",
    "        loss = 0\n",
    "        val_output, hidden = char_rnn(xt, hidden)\n",
    "        # add up loss at each time step\n",
    "        loss += criterion(val_output.view(-1, vocab_size), Variable(val_target_set[batch_idx-1].view(config.seq_length*config.batch_size)).to(device))\n",
    "        running_loss += loss.item()\n",
    "    pkl.dump(running_loss/(val_input_set.shape[0] + 1), open(path.join(config.model_dir, config.full_name+\"_e{}_valLoss.p\".format(epoch)), 'wb'))\n",
    "    return running_loss/(val_input_set.shape[0] + 1)"
   ]
  },
  {
   "cell_type": "code",
   "execution_count": 10,
   "metadata": {},
   "outputs": [],
   "source": [
    "def val(config, val_set, vocab_size):\n",
    "    criterion = nn.CrossEntropyLoss()   # include softmax\n",
    "    if torch.cuda.is_available() and config.cuda:\n",
    "        device = torch.device('cuda')\n",
    "    val_losses = []\n",
    "    val_input_set, val_target_set = val_set[0], val_set[1]\n",
    "    for epoch in tqdm(range(config.max_epochs)):\n",
    "        char_rnn = CharRNN(config.num_layers, vocab_size, config.hidden_size, model=config.rnn_model, p_drop = config.dropout, embedded = config.embedded).to(device)\n",
    "        char_rnn.load_state_dict(torch.load(path.join(config.model_dir, config.full_name)+'_e{}.pth'.format(epoch)))\n",
    "        running_loss = 0.0\n",
    "\n",
    "        hidden = char_rnn.init_hidden(config.batch_size)  # (n_layers * n_directions, batch_size, hidden_size)\n",
    "        # ship to gpu if possible\n",
    "        if torch.cuda.is_available() and config.cuda:\n",
    "            if config.rnn_model == 'lstm':\n",
    "                hidden = tuple([x.cuda() for x in hidden])\n",
    "            else:\n",
    "                hidden = hidden.cuda()\n",
    "\n",
    "        for batch_idx in range(1, val_input_set.shape[0] + 1):   # for every batch\n",
    "            # for every batch\n",
    "            val_input = val_input_set[batch_idx - 1]\n",
    "\n",
    "            # ship to gpu if possible\n",
    "            if torch.cuda.is_available() and config.cuda:\n",
    "                val_input = val_input.cuda()\n",
    "\n",
    "            xt = Variable(val_input)\n",
    "            # compute loss for this batch\n",
    "            loss = 0\n",
    "            val_output, hidden = char_rnn(xt, hidden)\n",
    "            # add up loss at each time step\n",
    "            loss += criterion(val_output.view(-1, vocab_size), Variable(val_target_set[batch_idx-1].view(config.seq_length*config.batch_size)).to(device))\n",
    "            running_loss += loss.item()\n",
    "        val_losses.append(running_loss/(val_input_set.shape[0] + 1))\n",
    "    pkl.dump(val_losses, open(path.join(config.model_dir, config.full_name+\"_valLossFull.p\"), 'wb'))\n",
    "    return val_losses"
   ]
  },
  {
   "cell_type": "markdown",
   "metadata": {},
   "source": [
    "# Optimize over LE Slope"
   ]
  },
  {
   "cell_type": "code",
   "execution_count": 11,
   "metadata": {},
   "outputs": [],
   "source": [
    "optim_epochs = 1\n",
    "optim_seq_len = 100\n",
    "dropout = .2\n",
    "size = 512\n",
    "model = 'lstm'\n",
    "optim = 'adam'\n",
    "\n",
    "test_input_set, test_target_set = test_set[0], test_set[1]\n",
    "# con = Config(model_dir = 'CharRNN/WP/HP/Models/Shallow', dropout = dropout, max_epochs = optim_epochs, batch_size = 25, decay_rate = .95, hidden_size = size, seq_length = optim_seq_len, rnn_model = model, optimizer = optim)\n",
    "# net = CharRNN(con.num_layers, vocab_size, con.hidden_size, model=con.rnn_model, p_drop = con.dropout, embedded = None)\n",
    "\n"
   ]
  },
  {
   "cell_type": "markdown",
   "metadata": {},
   "source": [
    "## Conducting New Search"
   ]
  },
  {
   "cell_type": "code",
   "execution_count": null,
   "metadata": {},
   "outputs": [],
   "source": [
    "def objective(net_parameters, slope_indices = [50, 100], max_epochs = 4):\n",
    "    \n",
    "    con = Config(model_dir = model_dir, data_dir = model_dir, rnn_model=net_parameters['model'], hidden_size = net_parameters['size'], \n",
    "                 dropout = net_parameters['dropout'], learning_rate= net_parameters['learning_rate'], max_epochs = max_epochs, batch_size = 100)\n",
    "    net = CharRNN(con.num_layers, vocab_size, con.hidden_size, model=con.rnn_model, p_drop = con.dropout, embedded = None)\n",
    "    train_hp(train_set, val_set, vocab_size, con)\n",
    "    net.load_state_dict(torch.load(path.join(con.model_dir, con.full_name)+'_e{}.pth'.format(max_epochs)))\n",
    "    con.batch_size = 10\n",
    "    loss, LEs = le_loss(net, con, slope_indices, dynamics = False)\n",
    "    pkl.dump(LEs, open(path.join(con.model_dir, con.full_name+'_e{}_LEStats.p'.format(con.max_epochs)), 'wb'))\n",
    "    return {\n",
    "        'loss': loss,\n",
    "        'status' : STATUS_OK,\n",
    "        'net': net\n",
    "    }"
   ]
  },
  {
   "cell_type": "code",
   "execution_count": null,
   "metadata": {},
   "outputs": [],
   "source": [
    "def objective2(net_parameters, slope_indices = [50, 100], max_epochs = 4):\n",
    "    \n",
    "    con = Config(rnn_model=net_parameters['model'], hidden_size = net_parameters['size'], model_dir = 'CharRNN/WP/HP/Models/Shallow',\n",
    "                 dropout = net_parameters['dropout'], learning_rate= net_parameters['learning_rate'], max_epochs = max_epochs, batch_size = 100)\n",
    "    net = CharRNN(con.num_layers, vocab_size, con.hidden_size, model=con.rnn_model, p_drop = con.dropout, embedded = None)\n",
    "    train_hp(train_set, val_set, vocab_size, con)\n",
    "    net.load_state_dict(torch.load(path.join(con.model_dir, con.full_name)+'_e{}.pth'.format(max_epochs)))\n",
    "    con.batch_size = 10\n",
    "    loss, LEs = le_loss(net, con, slope_indices, dynamics = False)\n",
    "    pkl.dump(LEs, open(path.join(con.model_dir, con.full_name+'_e{}_LEStats.p'.format(con.max_epochs)), 'wb'))\n",
    "    return {\n",
    "        'loss': abs(loss),\n",
    "        'status' : STATUS_OK,\n",
    "        'net': net\n",
    "    }"
   ]
  },
  {
   "cell_type": "code",
   "execution_count": null,
   "metadata": {},
   "outputs": [],
   "source": [
    "do_lb = -9\n",
    "network_space = hp.choice('net_settings', [\n",
    "    {\n",
    "        'model': 'lstm',\n",
    "        'size': 512,\n",
    "        'dropout': hp.qloguniform('do_l', do_lb,0, 1e-3),\n",
    "        'learning_rate': hp.qloguniform('lr_l', -7.5, -5, 1e-5)\n",
    "    },\n",
    "#     {\n",
    "#         'model': 'gru',\n",
    "#         'size' : 597,\n",
    "#         'dropout': hp.qloguniform('do_g', do_lb, 0, 1e-3),\n",
    "#         'learning_rate': hp.qloguniform('lr_g', -7.5, -5, 1e-5)\n",
    "#     },\n",
    "#     {\n",
    "#         'model': 'rnn',\n",
    "#         'size': 549,\n",
    "#         'dropout': hp.qloguniform('do_r', do_lb, 0, 1e-3),\n",
    "#         'learning_rate': hp.qloguniform('lr_r', -7.5, -5, 1e-5)\n",
    "#     },\n",
    "    ])"
   ]
  },
  {
   "cell_type": "code",
   "execution_count": null,
   "metadata": {},
   "outputs": [],
   "source": [
    "trials_shallow = Trials()\n",
    "# trials = Trials()"
   ]
  },
  {
   "cell_type": "code",
   "execution_count": null,
   "metadata": {},
   "outputs": [],
   "source": [
    "trials = Trials()\n",
    "model_dir = 'CharRNN/WP/HP/Models/LSTM'\n",
    "data_dir = model_dir"
   ]
  },
  {
   "cell_type": "code",
   "execution_count": null,
   "metadata": {
    "scrolled": true
   },
   "outputs": [],
   "source": [
    "best = fmin(objective, \n",
    "            space = network_space, \n",
    "            algo = tpe.suggest,\n",
    "            trials = trials,\n",
    "            max_evals = 60\n",
    "           )\n",
    "\n",
    "pkl.dump(trials, open(con.data_dir + '/hpTrials5.p', 'wb'))"
   ]
  },
  {
   "cell_type": "code",
   "execution_count": null,
   "metadata": {},
   "outputs": [],
   "source": []
  },
  {
   "cell_type": "code",
   "execution_count": null,
   "metadata": {
    "scrolled": true
   },
   "outputs": [],
   "source": [
    "best = fmin(objective2, \n",
    "            space = network_space, \n",
    "            algo = tpe.suggest,\n",
    "            trials = trials_shallow,\n",
    "            max_evals = 10\n",
    "           )\n",
    "\n",
    "pkl.dump(trials_shallow, open(con.model_dir + '/hpTrials1_2.p', 'wb'))"
   ]
  },
  {
   "cell_type": "code",
   "execution_count": null,
   "metadata": {
    "scrolled": true
   },
   "outputs": [],
   "source": [
    "trials"
   ]
  },
  {
   "cell_type": "code",
   "execution_count": null,
   "metadata": {},
   "outputs": [],
   "source": []
  },
  {
   "cell_type": "markdown",
   "metadata": {},
   "source": [
    "## Post-Processing"
   ]
  },
  {
   "cell_type": "code",
   "execution_count": 14,
   "metadata": {},
   "outputs": [],
   "source": [
    "model_dir = 'CharRNN/WP/HP/LSTM'"
   ]
  },
  {
   "cell_type": "code",
   "execution_count": 15,
   "metadata": {},
   "outputs": [],
   "source": [
    "trials = pkl.load(open(model_dir + '/hpTrials5.p', 'rb'))"
   ]
  },
  {
   "cell_type": "code",
   "execution_count": 16,
   "metadata": {},
   "outputs": [],
   "source": [
    "n = len(trials)\n",
    "r_idcs = np.array(range(math.floor(n/6)*6))\n",
    "np.random.shuffle(r_idcs)\n",
    "r_idcs = np.reshape(r_idcs, (-1, 6))"
   ]
  },
  {
   "cell_type": "code",
   "execution_count": null,
   "metadata": {},
   "outputs": [],
   "source": [
    "tls = np.array(trials.losses())\n",
    "# steepest = np.where(tls < -.00185)[0]\n",
    "# shallowest = np.where(tls > -.0014)[0]"
   ]
  },
  {
   "cell_type": "code",
   "execution_count": null,
   "metadata": {},
   "outputs": [],
   "source": [
    "# len(shallowest)"
   ]
  },
  {
   "cell_type": "code",
   "execution_count": 17,
   "metadata": {},
   "outputs": [],
   "source": [
    "models = []\n",
    "lrs = []\n",
    "dos = []\n",
    "\n",
    "for trial in trials.trials:\n",
    "    m = trial['misc']['vals']['net_settings']\n",
    "    models.append(m)\n",
    "    ls = trial['misc']['vals']['lr_l']\n",
    "#     ls = [trial['misc']['vals']['lr_l'], trial['misc']['vals']['lr_g'], trial['misc']['vals']['lr_r']][m[0]]\n",
    "    lrs.append(ls)\n",
    "    do = trial['misc']['vals']['do_l']\n",
    "#     do = [trial['misc']['vals']['do_l'], trial['misc']['vals']['do_g'], trial['misc']['vals']['do_r']][m[0]]\n",
    "    dos.append(do)\n",
    "    \n",
    "dos = np.array(dos).T.squeeze()\n",
    "lrs = np.array(lrs).T.squeeze()"
   ]
  },
  {
   "cell_type": "code",
   "execution_count": 18,
   "metadata": {},
   "outputs": [
    {
     "name": "stdout",
     "output_type": "stream",
     "text": [
      "[]\n"
     ]
    }
   ],
   "source": [
    "overwritten = []\n",
    "for t_id, do, lr, model in zip(range(len(trials)), dos, lrs, models):\n",
    "#     print('{} with Dropout {} at indices'.format(model, do))\n",
    "    ind_check1 = np.intersect1d(np.where(np.array(models) == model), np.where(dos == do))\n",
    "    ind_check2 = np.intersect1d(np.where(np.array(models) == model), np.where(lrs == lr))\n",
    "    ind_check = np.intersect1d(ind_check1, ind_check2)\n",
    "    if t_id < ind_check[-1]:\n",
    "        overwritten.append(t_id)\n",
    "        print('Trial {} with dropout {} overwritten by trial {}'.format(t_id, do, ind_check[-1]))\n",
    "#     else:\n",
    "#         print('Trial {} with dropout {} not overwritten'.format(t_id, do, ind_check[-1]))\n",
    "\n",
    "print(overwritten)\n",
    "# print('\\nShallowest Trials:')\n",
    "# for t_id, do, model in zip(shallowest, do_shallow, model_shallow):\n",
    "#     print('{} with Dropout {} at indices'.format(model, do))\n",
    "#     ind_check = np.intersect1d(np.where(np.array(models) == model), np.where(dos == do))\n",
    "#     if t_id < ind_check[-1]:\n",
    "#         t_id\n",
    "#         print('Trial {} with dropout {} overwritten by trial {}'.format(t_id, do, ind_check[-1]))\n",
    "#     else:\n",
    "#         print('Trial {} with dropout {} not overwritten'.format(t_id, do, ind_check[-1]))"
   ]
  },
  {
   "cell_type": "markdown",
   "metadata": {},
   "source": [
    "## Training and Validation"
   ]
  },
  {
   "cell_type": "code",
   "execution_count": 16,
   "metadata": {
    "scrolled": true
   },
   "outputs": [
    {
     "name": "stderr",
     "output_type": "stream",
     "text": [
      "100%|██████████| 15/15 [00:29<00:00,  1.95s/it]\n",
      "100%|██████████| 15/15 [00:29<00:00,  1.93s/it]\n",
      "100%|██████████| 15/15 [00:29<00:00,  1.97s/it]\n",
      "100%|██████████| 15/15 [00:28<00:00,  1.93s/it]\n",
      "100%|██████████| 15/15 [00:29<00:00,  1.94s/it]\n",
      "100%|██████████| 15/15 [00:29<00:00,  1.96s/it]\n",
      "100%|██████████| 15/15 [00:29<00:00,  1.96s/it]\n",
      "100%|██████████| 15/15 [00:29<00:00,  1.97s/it]\n",
      "100%|██████████| 15/15 [00:29<00:00,  1.95s/it]\n",
      "100%|██████████| 15/15 [00:29<00:00,  1.98s/it]\n",
      "100%|██████████| 15/15 [00:29<00:00,  1.95s/it]\n",
      "100%|██████████| 15/15 [00:29<00:00,  1.95s/it]\n",
      "100%|██████████| 15/15 [00:28<00:00,  1.93s/it]\n",
      "100%|██████████| 15/15 [00:28<00:00,  1.93s/it]\n",
      "100%|██████████| 15/15 [00:29<00:00,  1.97s/it]\n",
      "100%|██████████| 15/15 [00:29<00:00,  1.94s/it]\n",
      "100%|██████████| 15/15 [00:28<00:00,  1.93s/it]\n",
      "100%|██████████| 15/15 [00:29<00:00,  1.95s/it]\n",
      "100%|██████████| 15/15 [00:28<00:00,  1.93s/it]\n",
      "100%|██████████| 15/15 [00:29<00:00,  1.96s/it]\n",
      "100%|██████████| 15/15 [00:29<00:00,  1.93s/it]\n",
      "100%|██████████| 15/15 [00:29<00:00,  1.95s/it]\n",
      "100%|██████████| 15/15 [00:29<00:00,  1.95s/it]\n",
      "100%|██████████| 15/15 [00:29<00:00,  1.97s/it]\n",
      "100%|██████████| 15/15 [00:28<00:00,  1.92s/it]\n",
      "100%|██████████| 15/15 [00:28<00:00,  1.93s/it]\n",
      "100%|██████████| 15/15 [00:29<00:00,  1.95s/it]\n",
      "100%|██████████| 15/15 [00:28<00:00,  1.92s/it]\n",
      "100%|██████████| 15/15 [00:28<00:00,  1.92s/it]\n",
      "100%|██████████| 15/15 [00:28<00:00,  1.92s/it]\n",
      "100%|██████████| 15/15 [00:29<00:00,  1.94s/it]\n",
      "100%|██████████| 15/15 [00:28<00:00,  1.93s/it]\n",
      "100%|██████████| 15/15 [00:29<00:00,  1.94s/it]\n",
      "100%|██████████| 15/15 [00:28<00:00,  1.92s/it]\n",
      "100%|██████████| 15/15 [00:29<00:00,  1.95s/it]\n",
      "100%|██████████| 15/15 [00:29<00:00,  1.96s/it]\n",
      "100%|██████████| 15/15 [00:28<00:00,  1.92s/it]\n",
      "100%|██████████| 15/15 [00:29<00:00,  1.96s/it]\n",
      "100%|██████████| 15/15 [00:28<00:00,  1.90s/it]\n",
      "100%|██████████| 15/15 [00:28<00:00,  1.93s/it]\n",
      "100%|██████████| 15/15 [00:28<00:00,  1.92s/it]\n",
      "100%|██████████| 15/15 [00:28<00:00,  1.93s/it]\n",
      "100%|██████████| 15/15 [00:28<00:00,  1.91s/it]\n",
      "100%|██████████| 15/15 [00:28<00:00,  1.92s/it]\n",
      "100%|██████████| 15/15 [00:28<00:00,  1.91s/it]\n",
      "100%|██████████| 15/15 [00:28<00:00,  1.93s/it]\n",
      "100%|██████████| 15/15 [00:29<00:00,  1.95s/it]\n",
      "100%|██████████| 15/15 [00:29<00:00,  1.94s/it]\n",
      "100%|██████████| 15/15 [00:28<00:00,  1.92s/it]\n",
      "100%|██████████| 15/15 [00:29<00:00,  1.94s/it]\n",
      "100%|██████████| 15/15 [00:29<00:00,  1.94s/it]\n",
      "100%|██████████| 15/15 [00:28<00:00,  1.93s/it]\n",
      "100%|██████████| 15/15 [00:29<00:00,  1.95s/it]\n",
      "100%|██████████| 15/15 [00:28<00:00,  1.93s/it]\n",
      "100%|██████████| 15/15 [00:29<00:00,  1.94s/it]\n",
      "100%|██████████| 15/15 [00:29<00:00,  1.94s/it]\n",
      "100%|██████████| 15/15 [00:28<00:00,  1.92s/it]\n",
      "100%|██████████| 15/15 [00:28<00:00,  1.91s/it]\n",
      "100%|██████████| 15/15 [00:28<00:00,  1.93s/it]\n",
      "100%|██████████| 15/15 [00:28<00:00,  1.92s/it]\n"
     ]
    }
   ],
   "source": [
    "hp_epoch = 4\n",
    "max_epochs = 15\n",
    "model_dir = 'CharRNN/WP/HP/Models/LSTM'\n",
    "for idx in range(len(trials)):\n",
    "    t_vals = trials.trials[idx]['misc']['vals']\n",
    "    net_type, size, suf = model_idx(t_vals['net_settings'])\n",
    "    \n",
    "    con = Config(rnn_model = net_type, hidden_size = size, dropout = t_vals['do_{}'.format(suf)][0], learning_rate = t_vals['lr_{}'.format(suf)][0], \n",
    "                 optimizer = 'adam', max_epochs = max_epochs, model_dir = model_dir)\n",
    "#     print(con.learning_rate)\n",
    "    net = CharRNN(con.num_layers, vocab_size, con.hidden_size, model=con.rnn_model, p_drop = con.dropout, embedded = None)\n",
    "    \n",
    "#     net.load_state_dict(torch.load(path.join(con.model_dir, con.full_name)+'_e{}.pth'.format(hp_epoch)))\n",
    "#     train_hp(train_set, val_set, vocab_size, con, init_epoch = hp_epoch)\n",
    "    net.load_state_dict(torch.load(path.join(con.model_dir, con.full_name)+'_e{}.pth'.format(max_epochs)))\n",
    "    val(con, val_set, vocab_size)"
   ]
  },
  {
   "cell_type": "code",
   "execution_count": 19,
   "metadata": {},
   "outputs": [],
   "source": [
    "hp_epoch = 4\n",
    "max_epochs = 15\n",
    "\n",
    "slopes = []\n",
    "val_losses = []\n",
    "LEs = []\n",
    "slopes2 = []\n",
    "slope_inds = [200, 300]\n",
    "for idx in range(len(trials)):\n",
    "    t_vals = trials.trials[idx]['misc']['vals']\n",
    "    net_type, size, suf = model_idx(t_vals['net_settings'])\n",
    "    slopes.append(trials.trials[idx]['result']['loss'])\n",
    "    con = Config(model_dir =  model_dir, rnn_model = net_type, hidden_size = size, dropout = t_vals['do_{}'.format(suf)][0], learning_rate = t_vals['lr_{}'.format(suf)][0], optimizer = 'adam', max_epochs = max_epochs)\n",
    "    val_losses.append(pkl.load(open('{}/{}_valLossFull.p'.format(con.model_dir, con.full_name, max_epochs), 'rb'))[max_epochs-1])\n",
    "    LE = pkl.load(open('{}/{}_e{}_LEStats.p'.format(con.model_dir, con.full_name, hp_epoch), 'rb'))\n",
    "    LEs.append(LE)\n",
    "    slopes2.append(best_fit_slope(np.array(range(slope_inds[0], slope_inds[1])), np.array(LE[0][slope_inds[0]:slope_inds[1]])))\n",
    "slopes = np.array(slopes)\n",
    "slopes2 = np.array(slopes2)\n",
    "val_losses = np.array(val_losses)\n",
    "LE_means = [LE[0] for LE in LEs]\n",
    "# shallow_slopes = []\n",
    "# shallow_val_losses1 = []\n",
    "# shallow_val_losses2 = []\n",
    "# for idx in shallowest:\n",
    "#     t_vals = trials.trials[idx]['misc']['vals']\n",
    "#     net_type, size, suf = model_idx(t_vals['net_settings'])\n",
    "#     shallow_slopes.append(trials.trials[idx]['result']['loss'])\n",
    "#     con = Config(rnn_model = net_type, hidden_size = size, dropout = t_vals['do_{}'.format(suf)][0], learning_rate = t_vals['lr_{}'.format(suf)][0], optimizer = 'adam', max_epochs = max_epochs)\n",
    "#     if calc_vals:\n",
    "#         shallow_val_losses1.append(val_epoch(con, val_set, vocab_size, epoch = max_epochs1))\n",
    "#         shallow_val_losses2.append(val_epoch(con, val_set, vocab_size, epoch = max_epochs2))\n",
    "#     else:\n",
    "#         shallow_val_losses1.append(pkl.load(open('{}/{}_e{}_valLoss.p'.format(con.model_dir, con.full_name, max_epochs1), 'rb')))\n",
    "#         shallow_val_losses2.append(pkl.load(open('{}/{}_e{}_valLoss.p'.format(con.model_dir, con.full_name, max_epochs2), 'rb')))\n",
    "# shallow_slopes = np.array(shallow_slopes)\n",
    "# shallow_val_losses1 = np.array(shallow_val_losses1)\n",
    "# shallow_val_losses2 = np.array(shallow_val_losses2)"
   ]
  },
  {
   "cell_type": "code",
   "execution_count": null,
   "metadata": {},
   "outputs": [],
   "source": [
    "# for ov in overwritten:\n",
    "#     trials.trials.pop(ov)\n",
    "#     models.pop(ov)\n",
    "\n",
    "# mask = np.ones(len(dos), dtype=bool)\n",
    "# mask[overwritten] = False\n",
    "# print(np.shape(slopes[mask]))\n",
    "# # val_losses.pop(ov)"
   ]
  },
  {
   "cell_type": "code",
   "execution_count": 20,
   "metadata": {},
   "outputs": [],
   "source": [
    "mask = np.ones(len(dos), dtype=bool)\n",
    "mask[overwritten] = False\n",
    "dos = dos[mask]\n",
    "lrs = lrs[mask]"
   ]
  },
  {
   "cell_type": "code",
   "execution_count": 21,
   "metadata": {},
   "outputs": [
    {
     "data": {
      "text/plain": [
       "Text(0, 0.5, 'Slope')"
      ]
     },
     "execution_count": 21,
     "metadata": {},
     "output_type": "execute_result"
    },
    {
     "data": {
      "image/png": "[encoded data removed]",
      "text/plain": [
       "<Figure size 576x432 with 1 Axes>"
      ]
     },
     "metadata": {
      "needs_background": "light"
     },
     "output_type": "display_data"
    },
    {
     "data": {
      "image/png": "[encoded data removed]",
      "text/plain": [
       "<Figure size 576x432 with 1 Axes>"
      ]
     },
     "metadata": {
      "needs_background": "light"
     },
     "output_type": "display_data"
    }
   ],
   "source": [
    "fig = plt.figure(figsize = (8,6))\n",
    "cmap = cm.get_cmap('Paired')\n",
    "plt.scatter(dos, slopes2, cmap = cmap, c = [model[0] for model in models])\n",
    "plt.ylim([min(slopes2)-.00005, max(slopes2)+.00005])\n",
    "# plt.colorbar()\n",
    "legend_elements = [Line2D([0], [0], color= cmap(0), lw=4, label='LSTM'),\n",
    "                   Line2D([0], [0], color= cmap(1/2), lw=4, label='GRU'),\n",
    "                   Line2D([0], [0], color= cmap(2/2), lw=4, label='RNN')]\n",
    "plt.legend(handles = legend_elements)\n",
    "plt.xlabel('Dropout')\n",
    "plt.ylabel('Slope')\n",
    "\n",
    "fig = plt.figure(figsize = (8,6))\n",
    "cmap = cm.get_cmap('Paired')\n",
    "norm = matplotlib.colors.BoundaryNorm([0,1,2], cmap.N)\n",
    "plt.scatter(lrs, slopes2, cmap = cmap, c = [model[0] for model in models])\n",
    "plt.ylim([min(slopes2)-.00005, max(slopes2)+.00005])\n",
    "plt.xlim([0, max(lrs)+.0001])\n",
    "# plt.colorbar()\n",
    "\n",
    "plt.legend(handles = legend_elements)\n",
    "plt.xlabel('Learning Rate')\n",
    "plt.ylabel('Slope')"
   ]
  },
  {
   "cell_type": "code",
   "execution_count": 45,
   "metadata": {},
   "outputs": [
    {
     "data": {
      "image/png": "[encoded data removed]",
      "text/plain": [
       "<Figure size 576x432 with 1 Axes>"
      ]
     },
     "metadata": {
      "needs_background": "light"
     },
     "output_type": "display_data"
    }
   ],
   "source": [
    "X, Y = np.meshgrid(dos, lrs)\n",
    "fig = plt.figure(figsize = (8,6))\n",
    "ax = fig.add_subplot(111, projection = '3d')\n",
    "ax.scatter(dos, lrs, val_losses, s = 40, c = val_losses)\n",
    "ax.set_xlabel('Dropout')\n",
    "ax.set_ylabel('Learning Rate')\n",
    "# ax.set_zlabel('Validation Loss')\n",
    "# ax.view_init(-90, 0)"
   ]
  },
  {
   "cell_type": "code",
   "execution_count": 22,
   "metadata": {},
   "outputs": [
    {
     "data": {
      "text/plain": [
       "Text(0.5, 1.0, 'Slopes for Indices 200-300')"
      ]
     },
     "execution_count": 22,
     "metadata": {},
     "output_type": "execute_result"
    },
    {
     "data": {
      "image/png": "[encoded data removed]",
      "text/plain": [
       "<Figure size 1152x432 with 2 Axes>"
      ]
     },
     "metadata": {
      "needs_background": "light"
     },
     "output_type": "display_data"
    }
   ],
   "source": [
    "plt.figure(figsize = (16,6))\n",
    "plt.subplot(121)\n",
    "plt.scatter(slopes, val_losses, cmap = cmap, c = [model[0] for model in models])\n",
    "plt.xlim([min(slopes) - .00005, max(slopes) + .00005])\n",
    "# plt.xlim([-.015, max(slopes) + .0005])\n",
    "plt.ylim([1.3, 1.7])\n",
    "plt.legend(handles = legend_elements)\n",
    "plt.xlabel('Slope')\n",
    "plt.ylabel('Validation Loss')\n",
    "plt.title('Slopes for Indices 50-100')\n",
    "\n",
    "plt.subplot(122)\n",
    "plt.scatter(slopes2, val_losses, cmap = cmap, c = [model[0] for model in models])\n",
    "# plt.xlim([-.015, max(slopes2) + .00005])\n",
    "plt.xlim([min(slopes2) - .0005, max(slopes2) + .0005])\n",
    "plt.ylim([1.3, 1.7])\n",
    "plt.legend(handles = legend_elements)\n",
    "plt.xlabel('Slope')\n",
    "plt.ylabel('Validation Loss')\n",
    "plt.title('Slopes for Indices 200-300')"
   ]
  },
  {
   "cell_type": "code",
   "execution_count": null,
   "metadata": {},
   "outputs": [],
   "source": [
    "def angles(LE, k = 1):\n",
    "    slope = (LE[1:] - LE[:-1])\n",
    "    return np.arctan(k/slope)"
   ]
  },
  {
   "cell_type": "code",
   "execution_count": null,
   "metadata": {},
   "outputs": [],
   "source": [
    "angles(np.array([1, 2, 5, 6, 8]))"
   ]
  },
  {
   "cell_type": "code",
   "execution_count": null,
   "metadata": {},
   "outputs": [],
   "source": [
    "np.shape(r_idcs)"
   ]
  },
  {
   "cell_type": "code",
   "execution_count": null,
   "metadata": {},
   "outputs": [],
   "source": [
    "np.tri(5, 5, k=1) - np.tri(5, 5, k = -2) - 3*np.eye(5)"
   ]
  },
  {
   "cell_type": "code",
   "execution_count": null,
   "metadata": {},
   "outputs": [],
   "source": [
    "def D2(y_list, h = 1):\n",
    "#     l = len(y_list)\n",
    "#     n = len(y_list[0])\n",
    "#     d2 = 1/(h**2)*(np.eye(n, k=1) + np.tri(n, k = -1) - 2*np.eye(n))\n",
    "\n",
    "    return [np.gradient(np.gradient(y)) for y in y_list]\n",
    "\n",
    "def D1(y_list, h=1):\n",
    "#     l = len(y_list)\n",
    "#     n = len(y_list[0])\n",
    "#     d1 = 1/h*(np.eye(n, k=1) - np.eye(n, k = -1))\n",
    "    return [np.gradient(y) for y in y_list]"
   ]
  },
  {
   "cell_type": "code",
   "execution_count": 23,
   "metadata": {},
   "outputs": [
    {
     "data": {
      "text/plain": [
       "<matplotlib.legend.Legend at 0x7ff45c2df590>"
      ]
     },
     "execution_count": 23,
     "metadata": {},
     "output_type": "execute_result"
    },
    {
     "data": {
      "image/png": "[encoded data removed]",
      "text/plain": [
       "<Figure size 504x360 with 1 Axes>"
      ]
     },
     "metadata": {
      "needs_background": "light"
     },
     "output_type": "display_data"
    }
   ],
   "source": [
    "plt.figure(figsize = (7,5))\n",
    "for idx in range(5):\n",
    "    plt.plot(np.gradient(LE_means[idx]), label = idx)\n",
    "plt.title('Spectrum Derivative'.format(idx))\n",
    "plt.ylabel('Derivative')\n",
    "plt.xlabel('LE Index')\n",
    "plt.ylim([-.1, 0.002])\n",
    "plt.legend(title = 'Trial')"
   ]
  },
  {
   "cell_type": "code",
   "execution_count": 49,
   "metadata": {},
   "outputs": [
    {
     "data": {
      "text/plain": [
       "Text(0, 0.5, 'Validation Loss')"
      ]
     },
     "execution_count": 49,
     "metadata": {},
     "output_type": "execute_result"
    },
    {
     "data": {
      "image/png": "[encoded data removed]",
      "text/plain": [
       "<Figure size 576x432 with 1 Axes>"
      ]
     },
     "metadata": {
      "needs_background": "light"
     },
     "output_type": "display_data"
    },
    {
     "data": {
      "image/png": "[encoded data removed]",
      "text/plain": [
       "<Figure size 432x288 with 1 Axes>"
      ]
     },
     "metadata": {
      "needs_background": "light"
     },
     "output_type": "display_data"
    }
   ],
   "source": [
    "plt.figure(figsize = (4,3))\n",
    "for idx in range(6):\n",
    "    plt.scatter(range(0,512), LE_means[idx], s = 3, label = idx)\n",
    "plt.plot([0, 512], [0, 0], 'k--')\n",
    "# plt.title('Lyapunov spectra of LSTM')\n",
    "plt.ylabel('Exponent value')\n",
    "plt.xlabel('Exponent index')\n",
    "plt.ylim([-8, 0.5])\n",
    "plt.xlim([0, 512])\n",
    "plt.legend(title = 'Trial')\n",
    "plt.savefig()\n",
    "\n",
    "plt.figure(figsize = (4,3))\n",
    "for i in range(5):\n",
    "    plt.scatter(i, val_losses[i])\n",
    "plt.xlabel('Trial #')\n",
    "plt.ylabel('Validation Loss')\n"
   ]
  },
  {
   "cell_type": "code",
   "execution_count": null,
   "metadata": {},
   "outputs": [],
   "source": [
    "k = 1\n",
    "plt.figure(figsize = (8, 6))\n",
    "max_angles = np.array([max(abs(angles(LE_mean, k))) for LE_mean in LE_means]) \n",
    "# plt.subplot(121)\n",
    "plt.scatter(max_angles, val_losses)\n",
    "plt.xlim([min(max_angles), max(max_angles)])\n",
    "plt.ylabel('Validation Loss')\n",
    "plt.xlabel('Maximum Angle')\n",
    "\n",
    "plt.title('Maximum angle with Vertical and Validation Loss')\n",
    "\n",
    "# plt.subplot(122)\n",
    "# plt.scatter(range(len(max_angles)), max_angles)"
   ]
  },
  {
   "cell_type": "code",
   "execution_count": null,
   "metadata": {},
   "outputs": [],
   "source": [
    "np.where(max_angles <= min(max_angles) + .012)"
   ]
  },
  {
   "cell_type": "code",
   "execution_count": null,
   "metadata": {},
   "outputs": [],
   "source": [
    "fig = plt.figure(figsize = (8,6))\n",
    "k = 0.01\n",
    "for idx in range(5):\n",
    "    plt.plot(abs(angles(LE_means[idx], k)), label = idx)\n",
    "\n",
    "plt.legend(title = 'Trial')\n",
    "plt.xlabel('LE Index')\n",
    "plt.ylabel('Angle to vertical (radians)')\n",
    "plt.title('Angle measurements of LE spectra, with k = {}'.format(k))\n",
    "# plt.ylim([1.5, np.pi/2 + .001])"
   ]
  },
  {
   "cell_type": "code",
   "execution_count": null,
   "metadata": {},
   "outputs": [],
   "source": []
  },
  {
   "cell_type": "code",
   "execution_count": null,
   "metadata": {},
   "outputs": [],
   "source": [
    "coefs = np.zeros((len(LE_means), 4))\n",
    "for i, LE_mean in enumerate(LE_means):\n",
    "    coefs[i, :] = np.polyfit(range(512), LE_mean, deg = 3)\n",
    "print(coefs)"
   ]
  },
  {
   "cell_type": "code",
   "execution_count": null,
   "metadata": {},
   "outputs": [],
   "source": [
    "np.polyfit(range(512), LE_mean, deg = 3).shape"
   ]
  },
  {
   "cell_type": "code",
   "execution_count": null,
   "metadata": {},
   "outputs": [],
   "source": [
    "c1s = coefs[:,0]\n",
    "c2s = coefs[:,1]\n",
    "c3s = coefs[:,2]\n",
    "c4s = coefs[:,3]\n",
    "print(c1s)"
   ]
  },
  {
   "cell_type": "code",
   "execution_count": null,
   "metadata": {},
   "outputs": [],
   "source": [
    "cs = c3s\n",
    "fig = plt.figure(figsize = (8, 6))\n",
    "ax = fig.add_subplot(111)\n",
    "ax.scatter(cs, val_losses)\n",
    "plt.xlim([min(cs), max(cs)])\n",
    "plt.ylim([min(val_losses)-.01, 1.4])"
   ]
  },
  {
   "cell_type": "code",
   "execution_count": null,
   "metadata": {},
   "outputs": [],
   "source": [
    "from mpl_toolkits.mplot3d import Axes3D  # noqa: F401 unused import\n",
    "fig = plt.figure(figsize = (8, 6))\n",
    "ax = fig.add_subplot(111, projection='3d')\n",
    "ax.scatter(c1s, c2s, val_losses)\n",
    "plt.xlim([min(c1s), max(c1s)])\n",
    "plt.ylim([min(c2s), max(c2s)])\n",
    "ax.set_xlabel('Cubic')\n",
    "ax.set_ylabel('Quadratic')\n",
    "ax.set_zlabel('Validation Loss')\n",
    "ax.view_init(30, 10)"
   ]
  },
  {
   "cell_type": "code",
   "execution_count": null,
   "metadata": {},
   "outputs": [],
   "source": [
    "x=  np.array(range(512))\n",
    "x_poly = np.array([[x**3],[x**2],[x**1],[x**0]]).squeeze()"
   ]
  },
  {
   "cell_type": "code",
   "execution_count": null,
   "metadata": {},
   "outputs": [],
   "source": [
    "a1 = (a * np.array([3, 2, 1, 0]))[:-1]\n",
    "a2 = (a1*np.array([2, 1, 0]))[:-1]\n",
    "d1 = x_poly[1:, :].T @ a1\n",
    "d2 = x_poly[2:, :].T@a2"
   ]
  },
  {
   "cell_type": "code",
   "execution_count": null,
   "metadata": {},
   "outputs": [],
   "source": [
    "plt.plot(d2 / np.power(1+ d1*d1, 3/2))"
   ]
  },
  {
   "cell_type": "code",
   "execution_count": null,
   "metadata": {},
   "outputs": [],
   "source": [
    "plt.figure(figsize = (8,6))\n",
    "plt.scatter(c1s, val_losses)\n",
    "plt.xlim([min(c1s), max(c1s)])\n",
    "plt.title('Slope of Curvature vs Validation Loss')\n",
    "plt.xlabel('Curvature Slope')\n",
    "plt.ylabel('Validation Loss')"
   ]
  },
  {
   "cell_type": "code",
   "execution_count": null,
   "metadata": {},
   "outputs": [],
   "source": [
    "plt.figure(figsize = (8,6))\n",
    "plt.scatter(c2s, val_losses)\n",
    "plt.xlim([min(c2s), max(c2s)])\n",
    "plt.title('y-intercept of Curvature vs Validation Loss')\n",
    "plt.xlabel('Curvature Intercept')\n",
    "plt.ylabel('Validation Loss')"
   ]
  },
  {
   "cell_type": "code",
   "execution_count": null,
   "metadata": {},
   "outputs": [],
   "source": [
    "idxs = list(range(60))\n",
    "diffs = np.zeros((len(idxs), 512))\n",
    "a_array = np.zeros((len(idxs), 4))\n",
    "# plt.figure(figsize = (8,12))\n",
    "for i in idxs:\n",
    "    a = np.polyfit(range(512), LE_means[i], deg = 3)\n",
    "    diffs[i, :] = np.matmul(x_poly.T, a) - np.array(LE_means[i])\n",
    "    a_array[i, :] = a\n",
    "#     plt.plot(np.matmul(x_poly.T, a) - np.array(LE_means[idx]))\n",
    "    \n",
    "#     plt.scatter(range(0,512), LE_means[idx], s = 3)\n",
    "# plt.xlim([0, 300])\n",
    "# plt.ylim([-1, 1])\n",
    "# plt.xlabel('LE Index')\n",
    "# plt.ylabel('LE Value')\n",
    "# plt.title('3rd-degree Polynomial fits'.format(idx))"
   ]
  },
  {
   "cell_type": "code",
   "execution_count": null,
   "metadata": {},
   "outputs": [],
   "source": [
    "idxs = [4, 43, 38, 36, 31, 16]\n",
    "plt.figure(figsize = (16, 12))\n",
    "plt.subplot(121)\n",
    "for idx in idxs:\n",
    "\n",
    "#     diffs[i, :] = np.matmul(x_poly.T, a) - np.array(LE_means[i])\n",
    "    a = a_array[idx, :]\n",
    "    plt.plot(np.matmul(x_poly.T, a), label = str(idx))\n",
    "    plt.scatter(range(0,512), LE_means[idx], s = 3)\n",
    "plt.xlim([0, 512])\n",
    "plt.ylim([-8, 0.5])\n",
    "plt.xlabel('LE Index')\n",
    "plt.ylabel('LE Value')\n",
    "plt.title('3rd-degree Polynomial fits'.format(idx))\n",
    "plt.legend(title = 'Trial')\n",
    "\n",
    "plt.subplot(122)\n",
    "for idx in idxs:\n",
    "\n",
    "#     diffs[i, :] = np.matmul(x_poly.T, a) - np.array(LE_means[i])\n",
    "#     a = a_array[idx, :]\n",
    "    plt.plot(diffs[idx, :], label = idx)\n",
    "plt.ylim([-1, 1])\n",
    "plt.xlabel('LE Index')\n",
    "plt.ylabel('Polynomial Error')\n",
    "plt.title('3rd-degree Polynomial Errors'.format(idx))\n",
    "plt.legend(title = 'Trial')\n",
    "#     plt.scatter(range(0,512), LE_means[idx], s = 3)"
   ]
  },
  {
   "cell_type": "code",
   "execution_count": null,
   "metadata": {},
   "outputs": [],
   "source": [
    "fig = plt.figure(figsize = (12,10))\n",
    "ax = fig.add_subplot(111, projection='3d')\n",
    "ax = plt.gca()\n",
    "max_idcs = range(100, 500, 10)\n",
    "\n",
    "# max_idcs = [100, 250]\n",
    "xs = np.array(max_idcs)\n",
    "ys = np.array(val_losses)\n",
    "zs = np.zeros((len(val_losses), len(max_idcs)))\n",
    "for i, max_idx in enumerate(max_idcs):\n",
    "    zs[:, i] = np.sum(diffs[:, :max_idx]**2, axis = 1)/max_idx\n",
    "#     ax.scatter(np.sum(diffs[:, :max_idx]**2, axis = 1)/max_idx, val_losses, label = max_idx)\n",
    "X, Y = np.meshgrid(xs, ys)\n",
    "ax.scatter(X, Y, zs, c = X.flatten())\n",
    "# plt.show()\n",
    "# print(X.shape)\n",
    "# print(Y.shape)\n",
    "# print(zs.shape)\n",
    "# print(zs)\n",
    "# ax.set_xscale('log')\n",
    "# ax.set_zscale('log')\n",
    "# ax.set_yscale('log')\n",
    "# ax.set_title('Mean Squared error of polynomial fit vs. Validation Loss')\n",
    "ax.set_ylabel('Valdiation Loss')\n",
    "ax.set_xlabel('Maximum Index')\n",
    "ax.set_zlabel('Mean Squared Error')\n",
    "\n",
    "ax.view_init(30, 150)\n",
    "# ax.plot([0, 1], [min(val_losses), min(val_losses)], 'k--', label = 'Min Loss')\n",
    "# ax.legend()"
   ]
  },
  {
   "cell_type": "code",
   "execution_count": null,
   "metadata": {},
   "outputs": [],
   "source": [
    "fig = plt.figure(figsize = (8,6))\n",
    "# ax = fig.add_subplot(111, projection='3d')\n",
    "ax = plt.gca()\n",
    "max_idcs = range(10, 100)\n",
    "\n",
    "max_idcs = [100, 250, 500]\n",
    "xs = np.array(max_idcs)\n",
    "ys = np.array(val_losses)\n",
    "zs = np.zeros((len(val_losses), len(max_idcs)))\n",
    "for i, max_idx in enumerate(max_idcs):\n",
    "#     zs[:, i] = np.sum(diffs[:, :max_idx]**2, axis = 1)/max_idx\n",
    "    ax.scatter(np.sum(diffs[:, :max_idx]**2, axis = 1)/max_idx, val_losses, label = max_idx)\n",
    "# X, Y = np.meshgrid(xs, ys)\n",
    "# ax.scatter(X, Y, zs)\n",
    "# plt.show()\n",
    "# print(X.shape)\n",
    "# print(Y.shape)\n",
    "# print(zs.shape)\n",
    "# print(zs)\n",
    "ax.set_title('Mean Squared error of polynomial fit vs. Validation Loss')\n",
    "ax.set_xlabel('Mean Squared Error (Logarithmic Scale)')\n",
    "ax.set_ylabel('Validation loss (Logarithmic Scale)')\n",
    "ax.set_yscale('log')\n",
    "ax.set_xscale('log')\n",
    "# ax.view_init(10, 30)\n",
    "# ax.plot([0, 1], [min(val_losses), min(val_losses)], 'k--', label = 'Min Loss')\n",
    "# ax.legend()"
   ]
  },
  {
   "cell_type": "code",
   "execution_count": null,
   "metadata": {},
   "outputs": [],
   "source": [
    "X, Y = np.meshgrid(xs, ys)"
   ]
  },
  {
   "cell_type": "code",
   "execution_count": null,
   "metadata": {},
   "outputs": [],
   "source": [
    "X.shape"
   ]
  },
  {
   "cell_type": "code",
   "execution_count": null,
   "metadata": {},
   "outputs": [],
   "source": [
    "(diffs[:, :2]**2).shape"
   ]
  },
  {
   "cell_type": "code",
   "execution_count": 28,
   "metadata": {},
   "outputs": [
    {
     "data": {
      "text/plain": [
       "Text(0.5, 1.0, 'LSTM LE Spectrum Slope vs Validation Loss')"
      ]
     },
     "execution_count": 28,
     "metadata": {},
     "output_type": "execute_result"
    },
    {
     "data": {
      "image/png": "[encoded data removed]",
      "text/plain": [
       "<Figure size 576x432 with 1 Axes>"
      ]
     },
     "metadata": {
      "needs_background": "light"
     },
     "output_type": "display_data"
    }
   ],
   "source": [
    "plt.figure(figsize = (8,6))\n",
    "plt.scatter(slopes, val_losses)\n",
    "plt.xlim([min(slopes)-.001, max(slopes)+.001])\n",
    "plt.xlabel('Slope')\n",
    "plt.ylabel('Validation Loss')\n",
    "plt.title('LSTM LE Spectrum Slope vs Validation Loss')"
   ]
  },
  {
   "cell_type": "code",
   "execution_count": null,
   "metadata": {},
   "outputs": [],
   "source": [
    "idx = 4\n",
    "\n",
    "LE_means = [LE[0] for LE in LEs]\n",
    "second = D2(LE_means, h = 1)\n",
    "\n",
    "\n",
    "a = np.polyfit(range(512), LE_means[idx], deg = 3)\n",
    "\n",
    "a1 = (a * np.array([3, 2, 1, 0]))[:-1]\n",
    "a2 = (a1*np.array([2, 1, 0]))[:-1]\n",
    "d1 = x_poly[1:, :].T @ a1\n",
    "d2 = x_poly[2:, :].T@a2\n",
    "\n",
    "\n",
    "fig = plt.figure(figsize = (8,6))\n",
    "# plt.plot(second[0])\n",
    "# plt.ylim([-.05, 1])\n",
    "# dy = D1(LE_means)\n",
    "# dy2 = D2(LE_means)\n",
    "# print(np.abs(dy2[0]) / np.power(np.abs(dy[0]), 3))\n",
    "# for i in [4, 43, 38, 36, 31, 16]:\n",
    "for i in [3, 33, 13, 52, 22, 7]:\n",
    "    a = np.polyfit(range(512), LE_means[i], deg = 3)\n",
    "    print(2*a[1])\n",
    "    a1 = (a * np.array([3, 2, 1, 0]))[:-1]\n",
    "    a2 = (a1*np.array([2, 1, 0]))[:-1]\n",
    "    d1 = x_poly[1:, :].T @ a1\n",
    "    d2 = x_poly[2:, :].T@a2\n",
    "    curve = d2 / np.power(1+ d1*d1, 3/2)\n",
    "    print(curve[0])\n",
    "    plt.plot(curve, label = str(i))\n",
    "    \n",
    "plt.xlim([0,512])\n",
    "plt.ylim([-.0005,0.0005])\n",
    "plt.legend()\n",
    "plt.plot([0,512], [0,0], 'k--')\n",
    "plt.xlabel('LE Index')\n",
    "plt.ylabel('Curvature')\n",
    "plt.title('Curvature of 3rd-degree polynomial for different LE spectra')\n",
    "# np.abs(d2) / np.power(np.abs(d1)"
   ]
  },
  {
   "cell_type": "code",
   "execution_count": null,
   "metadata": {},
   "outputs": [],
   "source": [
    "plt.figure(figsize = (8,6))\n",
    "plt.plot(range(2,512), second[idxs[0]][1:-1])\n",
    "plt.plot(range(2,512), second[idxs[1]][1:-1])\n",
    "plt.xlim([0, 400])\n",
    "plt.ylim(min(second[0][1:400]), max(second[0][1:400]))\n",
    "plt.plot([0,512], [0,0], 'k--')"
   ]
  },
  {
   "cell_type": "code",
   "execution_count": null,
   "metadata": {},
   "outputs": [],
   "source": [
    "plt.figure(figsize = (6, 10))\n",
    "plt.scatter(range(0,512), LE_means[idxs[0]])\n",
    "plt.scatter(range(0,512), LE_means[idxs[1]])\n",
    "plt.ylim([-8, 0.5])"
   ]
  },
  {
   "cell_type": "code",
   "execution_count": null,
   "metadata": {},
   "outputs": [],
   "source": [
    "l = len(LEs)\n",
    "n = len(LEs[0][0])\n",
    "print(str(l) + ' ' + str(n))"
   ]
  },
  {
   "cell_type": "code",
   "execution_count": null,
   "metadata": {},
   "outputs": [],
   "source": [
    "y_spl_2d = y_spl.derivative(n=2)\n",
    "\n",
    "plt.plot(x_range[0:100],y_spl_2d(x_range[0:100]))"
   ]
  },
  {
   "cell_type": "code",
   "execution_count": null,
   "metadata": {},
   "outputs": [],
   "source": [
    "# indices = np.random.randint(low = 0, high = len(trials), size = 6)\n",
    "for row in r_idcs:\n",
    "    fig = plt.figure(figsize =(20,10))\n",
    "\n",
    "    a = [235, 234, 232, 231]\n",
    "\n",
    "\n",
    "    plt.subplot(a[0])\n",
    "    plt.xlabel('Exponent #')\n",
    "    plt.xlim([200, 300])\n",
    "    plt.ylim([-4, .5])\n",
    "#     plt.ylim([-2.15, -2])\n",
    "    plt.ylabel('Lyapunov Exponent Value')\n",
    "\n",
    "    plt.subplot(133)\n",
    "    plt.xlabel('Exponent #')\n",
    "    plt.xlim([0, 597])\n",
    "#     plt.ylim([-2.5, .5])\n",
    "    plt.ylim([-8, 0.5])\n",
    "    plt.ylabel('Lyapunov Exponent Value')\n",
    "\n",
    "    plt.subplot(a[2])\n",
    "    plt.xlabel('Exponent #')\n",
    "    plt.xlim([50, 100])\n",
    "    plt.ylim([-2.5, 0.5])\n",
    "    # plt.ylim([-2.2, -1.9])\n",
    "    plt.ylabel('Lyapunov Exponent Value')\n",
    "\n",
    "\n",
    "    plt.subplot(a[1])\n",
    "    plt.xlabel('Slope')\n",
    "    plt.xlim([min(slopes)-.005, max(slopes)+.005])\n",
    "    plt.ylim([min(val_losses)-.005, max(val_losses)+.005])\n",
    "    plt.ylabel('Validation Loss')\n",
    "\n",
    "    plt.subplot(a[3])\n",
    "    plt.xlabel('Slope')\n",
    "    plt.xlim([min(slopes)-.005, max(slopes)+.005])\n",
    "    plt.ylim([-.05, 2.05])\n",
    "    plt.yticks(ticks = [0, 1, 2], labels = ['LSTM', 'GRU', 'RNN'])\n",
    "    plt.ylabel('Model Type')\n",
    "\n",
    "\n",
    "    idcs = ''\n",
    "    for idx in row:\n",
    "        idcs = idcs +  str(idx) + '_'\n",
    "        cmap = cm.get_cmap('Paired')\n",
    "        t_vals = trials.trials[idx]['misc']['vals']\n",
    "        net_type, size, suf = model_idx(t_vals['net_settings'])\n",
    "        con = Config(model_dir = model_dir, rnn_model = net_type, hidden_size = size, dropout = t_vals['do_{}'.format(suf)][0], learning_rate = t_vals['lr_{}'.format(suf)][0], optimizer = 'adam', max_epochs = 4)\n",
    "\n",
    "        k_LE = min(con.hidden_size*con.num_layers, 100000)\n",
    "        LE_mean, LE_std = LEs[idx]\n",
    "#         print(LE_mean)\n",
    "        val_loss = val_losses[idx]\n",
    "        slope = slopes[idx]\n",
    "        x = np.linspace(0, k_LE-1, k_LE)\n",
    "        hidden_size = con.hidden_size\n",
    "        num_layers = con.num_layers\n",
    "\n",
    "        plt.subplot(a[0]);\n",
    "        label = '{:.6f}'.format(slope)\n",
    "        for j in range(con.num_layers):\n",
    "            plt.errorbar(x+j*k_LE, LE_mean[j*hidden_size:k_LE+j*hidden_size].to(torch.device('cpu')), yerr=0*LE_mean[:k_LE].to(torch.device('cpu')), marker = '.', linestyle = ' ', markersize = 6.5, elinewidth = 2, label = label)#'epoch {}'.format(i) if (j==0 and epoch%2 == 0) else None)\n",
    "\n",
    "        plt.subplot(a[2]);\n",
    "        label = '{:.6f}'.format(slope)\n",
    "        for j in range(con.num_layers):\n",
    "            plt.errorbar(x+j*k_LE, LE_mean[j*hidden_size:k_LE+j*hidden_size].to(torch.device('cpu')), yerr=0*LE_mean[:k_LE].to(torch.device('cpu')), marker = '.', linestyle = ' ', markersize = 6.5, elinewidth = 2, label = label)#'epoch {}'.format(i) if (j==0 and epoch%2 == 0) else None)\n",
    "\n",
    "\n",
    "        plt.subplot(a[1]);\n",
    "        plt.scatter(slope, val_loss, s = 50, label = idx)\n",
    "    #     plt.legend(title = 'Trial #')\n",
    "\n",
    "\n",
    "        plt.subplot(a[3])\n",
    "        plt.scatter(slope, models[idx][0], label = idx, s = 80)\n",
    "    #     plt.legend(title = 'Trial #')\n",
    "\n",
    "        plt.subplot(133);\n",
    "        label = '{:.6f}'.format(slope)\n",
    "        for j in range(con.num_layers):\n",
    "            plt.errorbar(x+j*k_LE, LE_mean[j*hidden_size:k_LE+j*hidden_size].to(torch.device('cpu')), yerr=0*LE_mean[:k_LE].to(torch.device('cpu')), marker = '.', linestyle = ' ', markersize = 6.5, elinewidth = 2, label = label)#'epoch {}'.format(i) if (j==0 and epoch%2 == 0) else None)\n",
    "\n",
    "\n",
    "\n",
    "    plt.subplot(a[0]);\n",
    "    plt.plot([0,num_layers*np.max([k_LE, 597, 512])], [0,0], 'k--')\n",
    "    plt.legend(title = 'Slope', loc = 1);\n",
    "\n",
    "    plt.subplot(a[1])\n",
    "    plt.legend(title = 'Trial #')\n",
    "\n",
    "    plt.subplot(133);\n",
    "    plt.plot([0,num_layers*np.max([k_LE, 597, 512])], [0,0], 'k--')\n",
    "    plt.legend(title = 'Slope', loc = 3);\n",
    "\n",
    "    plt.subplot(a[2]);\n",
    "    plt.plot([0,num_layers*np.max([k_LE, 597, 512])], [0,0], 'k--')\n",
    "    plt.legend(title = 'Slope', loc = 1);\n",
    "\n",
    "    fig.savefig('{}/LyapunovPlots_Trials{}.png'.format(con.data_dir, idcs))\n",
    "    \n",
    "\n",
    "#     plt.xlabel('Exponent #')\n",
    "#     plt.xlim([0, 597])\n",
    "#     # plt.ylim([-2.5, .5])\n",
    "#     plt.ylim([-12, 0.5])\n",
    "#     plt.ylabel('Lyapunov Exponent Value')"
   ]
  },
  {
   "cell_type": "code",
   "execution_count": null,
   "metadata": {},
   "outputs": [],
   "source": [
    "trials.trials[idx]['tid']"
   ]
  },
  {
   "cell_type": "code",
   "execution_count": null,
   "metadata": {},
   "outputs": [],
   "source": [
    "best_fit_slope(np.array(range(slope_inds[0], slope_inds[1])), np.array(LEs[4][0][slope_inds[0]:slope_inds[1]])"
   ]
  },
  {
   "cell_type": "code",
   "execution_count": null,
   "metadata": {},
   "outputs": [],
   "source": [
    "print((LEs[4][0][100] - LEs[4][0][50])/50)\n",
    "print((LEs[25][0][100] - LEs[25][0][50])/50)\n",
    "print((LEs[16][0][100] - LEs[16][0][50])/50)\n",
    "print((LEs[20][0][100] - LEs[20][0][50])/50)"
   ]
  },
  {
   "cell_type": "code",
   "execution_count": null,
   "metadata": {},
   "outputs": [],
   "source": [
    "plt.figure(\"Lyap Trials\")"
   ]
  },
  {
   "cell_type": "code",
   "execution_count": null,
   "metadata": {},
   "outputs": [],
   "source": [
    "np.random.shuffle(np.array(range(n)))"
   ]
  },
  {
   "cell_type": "code",
   "execution_count": null,
   "metadata": {},
   "outputs": [],
   "source": [
    "def load_con(trials, idx, max_epochs = 4):\n",
    "    t_vals = trials.trials[idx]['misc']['vals']\n",
    "    net_type, size, suf = model_idx(t_vals['net_settings'])\n",
    "    return Config(rnn_model = net_type, hidden_size = size, dropout = t_vals['do_{}'.format(suf)][0], learning_rate = t_vals['lr_{}'.format(suf)][0], optimizer = 'adam', max_epochs = 4)\n"
   ]
  },
  {
   "cell_type": "code",
   "execution_count": null,
   "metadata": {},
   "outputs": [],
   "source": [
    "con = load_con(trials, 4)\n",
    "\n",
    "net = CharRNN(con.num_layers, vocab_size, con.hidden_size, model=con.rnn_model, p_drop = con.dropout, embedded = None)\n",
    "net.load_state_dict(torch.load(path.join(con.model_dir, con.full_name)+'_e{}.pth'.format(4)))\n",
    "a1 = net.rnn_layer.all_weights[0][1].detach()\n",
    "\n",
    "con = load_con(trials, 17)\n",
    "\n",
    "net = CharRNN(con.num_layers, vocab_size, con.hidden_size, model=con.rnn_model, p_drop = con.dropout, embedded = None)\n",
    "net.load_state_dict(torch.load(path.join(con.model_dir, con.full_name)+'_e{}.pth'.format(4)))\n",
    "a2 = net.rnn_layer.all_weights[0][1].detach()"
   ]
  },
  {
   "cell_type": "code",
   "execution_count": null,
   "metadata": {},
   "outputs": [],
   "source": [
    "plt.matshow(net.rnn_layer.all_weights[0][1].detach())\n",
    "plt.colorbar()"
   ]
  },
  {
   "cell_type": "code",
   "execution_count": null,
   "metadata": {},
   "outputs": [],
   "source": [
    "con = load_con(trials, 17)\n",
    "\n",
    "net = CharRNN(con.num_layers, vocab_size, con.hidden_size, model=con.rnn_model, p_drop = con.dropout, embedded = None)\n",
    "net.load_state_dict(torch.load(path.join(con.model_dir, con.full_name)+'_e{}.pth'.format(4)))"
   ]
  },
  {
   "cell_type": "code",
   "execution_count": null,
   "metadata": {
    "scrolled": true
   },
   "outputs": [],
   "source": [
    "plt.plot(a1.reshape((-1,4)) - a2.reshape((-1,4)))"
   ]
  },
  {
   "cell_type": "code",
   "execution_count": null,
   "metadata": {},
   "outputs": [],
   "source": [
    "net.rnn_layer.all_weights[0][1].detach().reshape((-1,))"
   ]
  },
  {
   "cell_type": "code",
   "execution_count": null,
   "metadata": {},
   "outputs": [],
   "source": [
    "con = load_con(trials, 17)\n",
    "\n",
    "net = CharRNN(con.num_layers, vocab_size, con.hidden_size, model=con.rnn_model, p_drop = con.dropout, embedded = None)\n",
    "net.load_state_dict(torch.load(path.join(con.model_dir, con.full_name)+'_e{}.pth'.format(4)))\n",
    "plt.plot(net.rnn_layer.all_weights[0][1].detach().reshape((-1,4)))"
   ]
  },
  {
   "cell_type": "code",
   "execution_count": null,
   "metadata": {},
   "outputs": [],
   "source": [
    "a1.reshape((-1,4))"
   ]
  },
  {
   "cell_type": "code",
   "execution_count": null,
   "metadata": {},
   "outputs": [],
   "source": [
    "LE_list = []\n",
    "slope_indices = [50, 100]\n",
    "for idx, trial in enumerate(trials):\n",
    "    if idx == 4 or idx == 17:\n",
    "        t_vals = trials.trials[idx]['misc']['vals']\n",
    "        net_type, size, suf = model_idx(t_vals['net_settings'])\n",
    "        con = Config(rnn_model = net_type, hidden_size = size, dropout = t_vals['do_{}'.format(suf)][0], learning_rate = t_vals['lr_{}'.format(suf)][0], optimizer = 'adam', max_epochs = 4)\n",
    "        net = CharRNN(con.num_layers, vocab_size, con.hidden_size, model=con.rnn_model, p_drop = con.dropout, embedded = None)\n",
    "        con.batch_size = 10\n",
    "        loss, LEs = le_loss(net, con, slope_indices, dynamics = False)\n",
    "        LE_list.append(LEs)\n",
    "        print(loss)\n",
    "        LE_mean, LE_std = LEs\n",
    "        for j in range(con.num_layers):\n",
    "            plt.errorbar(x+j*k_LE, LE_mean[j*hidden_size:k_LE+j*hidden_size].to(torch.device('cpu')), yerr=LE_std[:k_LE].to(torch.device('cpu')), marker = '.', linestyle = ' ', markersize = 6.5, elinewidth = 2, label = label)#'epoch {}'.format(i) if (j==0 and epoch%2 == 0) else None)\n"
   ]
  },
  {
   "cell_type": "code",
   "execution_count": null,
   "metadata": {},
   "outputs": [],
   "source": [
    "for LEs in LE_list:\n",
    "    for j in range(con.num_layers):\n",
    "        plt.errorbar(x+j*k_LE, LE_mean[j*hidden_size:k_LE+j*hidden_size].to(torch.device('cpu')), yerr=0*LE_mean[:k_LE].to(torch.device('cpu')), marker = '.', linestyle = ' ', markersize = 6.5, elinewidth = 2, label = label)#'epoch {}'.format(i) if (j==0 and epoch%2 == 0) else None)\n"
   ]
  },
  {
   "cell_type": "code",
   "execution_count": null,
   "metadata": {},
   "outputs": [],
   "source": [
    "plt.gca()"
   ]
  },
  {
   "cell_type": "code",
   "execution_count": 47,
   "metadata": {},
   "outputs": [],
   "source": [
    "thresh3 = []\n",
    "for LE_mean in LE_means:\n",
    "#     print(LE_mean.shape)\n",
    "    thresh3.append(sum(np.array(LE_mean>-3, dtype = int)))\n",
    "#     print(sum(np.array(LE_mean>-3, dtype = int)))\n",
    "thresh3 = np.array(thresh3)"
   ]
  },
  {
   "cell_type": "markdown",
   "metadata": {},
   "source": [
    "## Generate Plots for sharing"
   ]
  },
  {
   "cell_type": "code",
   "execution_count": 58,
   "metadata": {},
   "outputs": [
    {
     "data": {
      "image/png": "[encoded data removed]",
      "text/plain": [
       "<Figure size 288x216 with 1 Axes>"
      ]
     },
     "metadata": {
      "needs_background": "light"
     },
     "output_type": "display_data"
    }
   ],
   "source": [
    "plt.rc('font', family = 'serif')\n",
    "plt.rc('xtick', labelsize = 'x-small')\n",
    "plt.rc('ytick', labelsize = 'x-small')\n",
    "fig = plt.figure(figsize = (4,3))\n",
    "\n",
    "ax = fig.add_subplot(1, 1, 1)\n",
    "plt.scatter(thresh3, val_losses, s= 20, edgecolors = 'k', facecolors = 'none')\n",
    "ax.set_xlabel('Number of exponents greater than -3')\n",
    "ax.set_ylabel('Validation/Test Loss')\n",
    "plt.savefig(\"Thresh_ValPlot.png\",bbox_inches=\"tight\",dpi=400, format = 'png')\n",
    "# ax.set_title('Threshold of 3 vs Validation/Test loss')"
   ]
  },
  {
   "cell_type": "code",
   "execution_count": 66,
   "metadata": {},
   "outputs": [
    {
     "data": {
      "image/png": "[encoded data removed]",
      "text/plain": [
       "<Figure size 288x216 with 1 Axes>"
      ]
     },
     "metadata": {
      "needs_background": "light"
     },
     "output_type": "display_data"
    },
    {
     "data": {
      "image/png": "[encoded data removed]",
      "text/plain": [
       "<Figure size 288x216 with 1 Axes>"
      ]
     },
     "metadata": {
      "needs_background": "light"
     },
     "output_type": "display_data"
    }
   ],
   "source": [
    "plt.figure(figsize = (4,3))\n",
    "for idx in range(6):\n",
    "    plt.scatter(range(0,512), LE_means[idx], s = 2, label = idx)\n",
    "# plt.plot([0, 512], [0, 0], 'k--')\n",
    "# plt.title('Lyapunov spectra of LSTM')\n",
    "plt.ylabel('Exponent value')\n",
    "plt.xlabel('Exponent index')\n",
    "plt.ylim([-8, 0])\n",
    "plt.xlim([0, 512])\n",
    "plt.legend(title = 'Trial')\n",
    "plt.savefig(\"Trial Spectra.png\",bbox_inches=\"tight\",dpi=400, format = 'png')\n",
    "\n",
    "plt.figure(figsize = (4,3))\n",
    "for i in range(5):\n",
    "    plt.scatter(i, val_losses[i])\n",
    "plt.xlabel('Trial #')\n",
    "plt.ylabel('Validation Loss')\n",
    "plt.savefig(\"Trial Validation Loss.png\",bbox_inches=\"tight\",dpi=400, format = 'png')"
   ]
  },
  {
   "cell_type": "code",
   "execution_count": 67,
   "metadata": {},
   "outputs": [
    {
     "data": {
      "image/png": "[encoded data removed]",
      "text/plain": [
       "<Figure size 288x216 with 1 Axes>"
      ]
     },
     "metadata": {
      "needs_background": "light"
     },
     "output_type": "display_data"
    }
   ],
   "source": [
    "fig = plt.figure(figsize = (4,3))\n",
    "\n",
    "ax = fig.add_subplot(1, 1, 1)\n",
    "plt.scatter(slopes, val_losses, s= 20, edgecolors = 'k', facecolors = 'none')\n",
    "ax.set_xlabel('Lyapunov Spectrum Slope')\n",
    "ax.set_ylabel('Validation/Test Loss')\n",
    "ax.set_xlim([min(slopes) - .0005, max(slopes) + .0005])\n",
    "plt.savefig(\"Slopes_ValPlot.png\",bbox_inches=\"tight\",dpi=400, format = 'png')\n",
    "# ax.set_title('Threshold of 3 vs Validation/Test loss')"
   ]
  },
  {
   "cell_type": "code",
   "execution_count": 78,
   "metadata": {},
   "outputs": [
    {
     "data": {
      "image/png": "[encoded data removed]",
      "text/plain": [
       "<Figure size 288x216 with 1 Axes>"
      ]
     },
     "metadata": {
      "needs_background": "light"
     },
     "output_type": "display_data"
    }
   ],
   "source": [
    "fig = plt.figure(figsize = (4,3))\n",
    "\n",
    "ax = fig.add_subplot(1, 1, 1)\n",
    "plt.scatter(lrs, val_losses, s= 20, edgecolors = 'k', facecolors = 'none')\n",
    "ax.set_xlabel('Learning Rate')\n",
    "ax.set_ylabel('Validation/Test Loss')\n",
    "ax.set_xlim([min(lrs) - .0005, max(lrs) + .0005])\n",
    "# ax.set_xscale('log')\n",
    "plt.savefig(\"LR_ValPlot.png\",bbox_inches=\"tight\",dpi=400, format = 'png')\n",
    "# ax.set_title('Threshold of 3 vs Validation/Test loss')"
   ]
  },
  {
   "cell_type": "code",
   "execution_count": null,
   "metadata": {},
   "outputs": [],
   "source": []
  },
  {
   "cell_type": "code",
   "execution_count": 83,
   "metadata": {},
   "outputs": [
    {
     "data": {
      "image/png": "[encoded data removed]",
      "text/plain": [
       "<Figure size 288x216 with 2 Axes>"
      ]
     },
     "metadata": {
      "needs_background": "light"
     },
     "output_type": "display_data"
    }
   ],
   "source": [
    "plt.rc('font', family = 'serif')\n",
    "plt.rc('xtick', labelsize = 'x-small')\n",
    "plt.rc('ytick', labelsize = 'x-small')\n",
    "fig = plt.figure(figsize = (4,3))\n",
    "\n",
    "ax = fig.add_subplot(111)#, projection = '2d')\n",
    "plt.scatter(slopes, thresh3, s = 40, c = val_losses)\n",
    "# ax.set_xlabel('Slope')\n",
    "# ax.set_ylabel('Threshold')\n",
    "# ax.set_xlim([min(slopes)-.001, max(slopes)+.001])\n",
    "plt.xlabel('Slope')\n",
    "plt.ylabel('Threshold')\n",
    "plt.xlim([min(slopes)-.001, max(slopes)+.001])\n",
    "cbar = plt.colorbar()\n",
    "cbar.set_label(\"Validation Loss\")\n",
    "# ax.set_zlabel('Validation Loss')\n",
    "# ax.view_init(90, 90)"
   ]
  },
  {
   "cell_type": "code",
   "execution_count": 84,
   "metadata": {},
   "outputs": [
    {
     "data": {
      "image/png": "[encoded data removed]",
      "text/plain": [
       "<Figure size 288x216 with 2 Axes>"
      ]
     },
     "metadata": {
      "needs_background": "light"
     },
     "output_type": "display_data"
    }
   ],
   "source": [
    "plt.rc('font', family = 'serif')\n",
    "plt.rc('xtick', labelsize = 'x-small')\n",
    "plt.rc('ytick', labelsize = 'x-small')\n",
    "fig = plt.figure(figsize = (4,3))\n",
    "\n",
    "ax = fig.add_subplot(111)#, projection = '2d')\n",
    "plt.scatter(dos, lrs, s = 40, c = val_losses)\n",
    "# ax.set_xlabel('Slope')\n",
    "# ax.set_ylabel('Threshold')\n",
    "# ax.set_xlim([min(slopes)-.001, max(slopes)+.001])\n",
    "plt.xlabel('Dropout')\n",
    "plt.ylabel('Learning Rate')\n",
    "plt.xlim([min(dos)-.001, max(dos)+.001])\n",
    "plt.ylim([min(lrs)-.001, max(lrs)+.001])\n",
    "cbar = plt.colorbar()\n",
    "cbar.set_label(\"Validation Loss\")\n",
    "# ax.set_zlabel('Validation Loss')\n",
    "# ax.view_init(90, 90)"
   ]
  },
  {
   "cell_type": "code",
   "execution_count": null,
   "metadata": {},
   "outputs": [],
   "source": []
  }
 ],
 "metadata": {
  "kernelspec": {
   "display_name": "Python 3",
   "language": "python",
   "name": "python3"
  },
  "language_info": {
   "codemirror_mode": {
    "name": "ipython",
    "version": 3
   },
   "file_extension": ".py",
   "mimetype": "text/x-python",
   "name": "python",
   "nbconvert_exporter": "python",
   "pygments_lexer": "ipython3",
   "version": "3.6.8"
  }
 },
 "nbformat": 4,
 "nbformat_minor": 4
}
